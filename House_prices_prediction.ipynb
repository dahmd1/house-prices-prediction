{
 "cells": [
  {
   "cell_type": "code",
   "execution_count": 34,
   "metadata": {},
   "outputs": [
    {
     "name": "stdout",
     "output_type": "stream",
     "text": [
      "matplotlib: 3.3.2\n",
      "pandas: 1.1.3\n",
      "sklearn: 0.23.2\n",
      "seaborn: 0.11.0\n",
      "numpy: 1.19.2\n"
     ]
    }
   ],
   "source": [
    "import matplotlib as plt\n",
    "print('matplotlib: {}'.format(plt.__version__))\n",
    "# pandas\n",
    "import pandas as pd\n",
    "print('pandas: {}'.format(pd.__version__))\n",
    "# scikit-learn\n",
    "import sklearn as sk\n",
    "print('sklearn: {}'.format(sk.__version__))\n",
    "from pandas_profiling import ProfileReport\n",
    "import seaborn as sns\n",
    "print('seaborn: {}'.format(sns.__version__))\n",
    "import numpy as np\n",
    "print('numpy: {}'.format(np.__version__))\n",
    "from sklearn import linear_model\n",
    "from sklearn import svm\n",
    "from sklearn.linear_model import LinearRegression\n",
    "from sklearn.linear_model import ElasticNet\n",
    "from sklearn.model_selection import KFold\n",
    "from sklearn.model_selection import cross_val_score"
   ]
  },
  {
   "cell_type": "code",
   "execution_count": 2,
   "metadata": {},
   "outputs": [],
   "source": [
    "X_train = pd.read_csv(\"X_train.csv\")"
   ]
  },
  {
   "cell_type": "code",
   "execution_count": 3,
   "metadata": {},
   "outputs": [],
   "source": [
    "X_val=pd.read_csv(\"X_val.csv\")\n",
    "X_test = pd.read_csv(\"X_test.csv\")"
   ]
  },
  {
   "cell_type": "code",
   "execution_count": 4,
   "metadata": {},
   "outputs": [],
   "source": [
    "y_train = pd.read_csv(\"y_train.csv\")\n",
    "y_val = pd.read_csv(\"y_val.csv\")\n",
    "y_test = pd.read_csv(\"y_test.csv\")"
   ]
  },
  {
   "cell_type": "code",
   "execution_count": 5,
   "metadata": {},
   "outputs": [],
   "source": [
    "id_test = pd.read_csv(\"id_test.csv\")"
   ]
  },
  {
   "cell_type": "code",
   "execution_count": 15,
   "metadata": {},
   "outputs": [],
   "source": [
    "X_train = X_train.drop(columns=[\"Unnamed: 0\"])"
   ]
  },
  {
   "cell_type": "code",
   "execution_count": 17,
   "metadata": {},
   "outputs": [],
   "source": [
    "X_val = X_val.drop(columns=[\"Unnamed: 0\"])"
   ]
  },
  {
   "cell_type": "code",
   "execution_count": 19,
   "metadata": {},
   "outputs": [],
   "source": [
    "X_test = X_test.drop(columns=[\"Unnamed: 0\"])"
   ]
  },
  {
   "cell_type": "code",
   "execution_count": 21,
   "metadata": {},
   "outputs": [],
   "source": [
    "y_train =y_train.drop(columns=[\"Unnamed: 0\"])"
   ]
  },
  {
   "cell_type": "code",
   "execution_count": 23,
   "metadata": {},
   "outputs": [],
   "source": [
    "y_val = y_val.drop(columns=[\"Unnamed: 0\"])"
   ]
  },
  {
   "cell_type": "code",
   "execution_count": 25,
   "metadata": {},
   "outputs": [],
   "source": [
    "y_test = y_test.drop(columns=[\"Unnamed: 0\"])"
   ]
  },
  {
   "cell_type": "code",
   "execution_count": 27,
   "metadata": {},
   "outputs": [],
   "source": [
    "id_test = id_test.drop(columns=[\"Unnamed: 0\"])"
   ]
  },
  {
   "cell_type": "code",
   "execution_count": null,
   "metadata": {},
   "outputs": [],
   "source": []
  },
  {
   "cell_type": "code",
   "execution_count": 36,
   "metadata": {},
   "outputs": [
    {
     "data": {
      "text/html": [
       "<div>\n",
       "<style scoped>\n",
       "    .dataframe tbody tr th:only-of-type {\n",
       "        vertical-align: middle;\n",
       "    }\n",
       "\n",
       "    .dataframe tbody tr th {\n",
       "        vertical-align: top;\n",
       "    }\n",
       "\n",
       "    .dataframe thead th {\n",
       "        text-align: right;\n",
       "    }\n",
       "</style>\n",
       "<table border=\"1\" class=\"dataframe\">\n",
       "  <thead>\n",
       "    <tr style=\"text-align: right;\">\n",
       "      <th></th>\n",
       "      <th>SalePrice_Log</th>\n",
       "    </tr>\n",
       "  </thead>\n",
       "  <tbody>\n",
       "    <tr>\n",
       "      <th>120</th>\n",
       "      <td>12.100712</td>\n",
       "    </tr>\n",
       "  </tbody>\n",
       "</table>\n",
       "</div>"
      ],
      "text/plain": [
       "     SalePrice_Log\n",
       "120      12.100712"
      ]
     },
     "execution_count": 36,
     "metadata": {},
     "output_type": "execute_result"
    }
   ],
   "source": [
    "y_test.sample()"
   ]
  },
  {
   "cell_type": "code",
   "execution_count": 35,
   "metadata": {},
   "outputs": [
    {
     "name": "stdout",
     "output_type": "stream",
     "text": [
      "LR: -0.135828 (0.008469)\n",
      "Ridge: -0.134779 (0.007722)\n"
     ]
    },
    {
     "name": "stderr",
     "output_type": "stream",
     "text": [
      "C:\\Users\\dalil\\anaconda3\\lib\\site-packages\\sklearn\\utils\\validation.py:72: DataConversionWarning: A column-vector y was passed when a 1d array was expected. Please change the shape of y to (n_samples, ), for example using ravel().\n",
      "  return f(**kwargs)\n",
      "C:\\Users\\dalil\\anaconda3\\lib\\site-packages\\sklearn\\utils\\validation.py:72: DataConversionWarning: A column-vector y was passed when a 1d array was expected. Please change the shape of y to (n_samples, ), for example using ravel().\n",
      "  return f(**kwargs)\n",
      "C:\\Users\\dalil\\anaconda3\\lib\\site-packages\\sklearn\\utils\\validation.py:72: DataConversionWarning: A column-vector y was passed when a 1d array was expected. Please change the shape of y to (n_samples, ), for example using ravel().\n",
      "  return f(**kwargs)\n",
      "C:\\Users\\dalil\\anaconda3\\lib\\site-packages\\sklearn\\utils\\validation.py:72: DataConversionWarning: A column-vector y was passed when a 1d array was expected. Please change the shape of y to (n_samples, ), for example using ravel().\n",
      "  return f(**kwargs)\n",
      "C:\\Users\\dalil\\anaconda3\\lib\\site-packages\\sklearn\\utils\\validation.py:72: DataConversionWarning: A column-vector y was passed when a 1d array was expected. Please change the shape of y to (n_samples, ), for example using ravel().\n",
      "  return f(**kwargs)\n",
      "C:\\Users\\dalil\\anaconda3\\lib\\site-packages\\sklearn\\utils\\validation.py:72: DataConversionWarning: A column-vector y was passed when a 1d array was expected. Please change the shape of y to (n_samples, ), for example using ravel().\n",
      "  return f(**kwargs)\n",
      "C:\\Users\\dalil\\anaconda3\\lib\\site-packages\\sklearn\\utils\\validation.py:72: DataConversionWarning: A column-vector y was passed when a 1d array was expected. Please change the shape of y to (n_samples, ), for example using ravel().\n",
      "  return f(**kwargs)\n",
      "C:\\Users\\dalil\\anaconda3\\lib\\site-packages\\sklearn\\utils\\validation.py:72: DataConversionWarning: A column-vector y was passed when a 1d array was expected. Please change the shape of y to (n_samples, ), for example using ravel().\n",
      "  return f(**kwargs)\n",
      "C:\\Users\\dalil\\anaconda3\\lib\\site-packages\\sklearn\\utils\\validation.py:72: DataConversionWarning: A column-vector y was passed when a 1d array was expected. Please change the shape of y to (n_samples, ), for example using ravel().\n",
      "  return f(**kwargs)\n",
      "C:\\Users\\dalil\\anaconda3\\lib\\site-packages\\sklearn\\utils\\validation.py:72: DataConversionWarning: A column-vector y was passed when a 1d array was expected. Please change the shape of y to (n_samples, ), for example using ravel().\n",
      "  return f(**kwargs)\n"
     ]
    },
    {
     "name": "stdout",
     "output_type": "stream",
     "text": [
      "SVR: -0.336435 (0.017211)\n",
      "Lasso: -0.302402 (0.020140)\n",
      "ElasticNet: -0.299317 (0.020669)\n"
     ]
    }
   ],
   "source": [
    "models = []\n",
    "models.append(('LR', LinearRegression()))\n",
    "models.append(('Ridge', linear_model.Ridge()))\n",
    "models.append(('SVR', svm.SVR()))\n",
    "models.append(('Lasso',linear_model.Lasso()))\n",
    "models.append(('ElasticNet',ElasticNet()))\n",
    "results = []\n",
    "names = []\n",
    "for name, model in models:\n",
    "    kfold = KFold(n_splits=10, random_state=1, shuffle=True)\n",
    "    cv_results = cross_val_score(model, X_train, y_train, cv=kfold,scoring='neg_root_mean_squared_error')\n",
    "    results.append(cv_results)\n",
    "    names.append(name)\n",
    "    print('%s: %f (%f)' % (name, cv_results.mean(), cv_results.std()))"
   ]
  },
  {
   "cell_type": "code",
   "execution_count": 37,
   "metadata": {},
   "outputs": [],
   "source": [
    "# The best model is the ridge model"
   ]
  },
  {
   "cell_type": "code",
   "execution_count": 39,
   "metadata": {},
   "outputs": [],
   "source": [
    "# Let's make a baseline"
   ]
  },
  {
   "cell_type": "code",
   "execution_count": 69,
   "metadata": {},
   "outputs": [],
   "source": [
    "model = linear_model.Ridge()\n",
    "model.fit(X_train, y_train)\n",
    "predictions = model.predict(X_val)"
   ]
  },
  {
   "cell_type": "code",
   "execution_count": 42,
   "metadata": {},
   "outputs": [
    {
     "data": {
      "text/plain": [
       "0.14740600048182884"
      ]
     },
     "execution_count": 42,
     "metadata": {},
     "output_type": "execute_result"
    }
   ],
   "source": [
    "from sklearn.metrics import mean_squared_error\n",
    "mean_squared_error(y_val, predictions,squared=False)"
   ]
  },
  {
   "cell_type": "code",
   "execution_count": 38,
   "metadata": {},
   "outputs": [],
   "source": [
    "# Let's tune the hyperparameters"
   ]
  },
  {
   "cell_type": "code",
   "execution_count": 44,
   "metadata": {},
   "outputs": [
    {
     "name": "stdout",
     "output_type": "stream",
     "text": [
      "-0.13415896351556014\n",
      "1.0\n"
     ]
    }
   ],
   "source": [
    "from sklearn.model_selection import GridSearchCV\n",
    "alphas = np.array([1,0.1,0.01,0.001,0.0001,0])\n",
    "model = linear_model.Ridge()\n",
    "grid = GridSearchCV(estimator=model, param_grid=dict(alpha=alphas), scoring='neg_root_mean_squared_error')\n",
    "grid.fit(X_train, y_train)\n",
    "print(grid.best_score_)\n",
    "print(grid.best_estimator_.alpha)\n"
   ]
  },
  {
   "cell_type": "code",
   "execution_count": null,
   "metadata": {},
   "outputs": [],
   "source": [
    "# During EDA i took the log of the sale price to have a normally distributed feature\n",
    "# Now I have to undo it to submit my results."
   ]
  },
  {
   "cell_type": "code",
   "execution_count": 47,
   "metadata": {},
   "outputs": [
    {
     "data": {
      "text/html": [
       "<div>\n",
       "<style scoped>\n",
       "    .dataframe tbody tr th:only-of-type {\n",
       "        vertical-align: middle;\n",
       "    }\n",
       "\n",
       "    .dataframe tbody tr th {\n",
       "        vertical-align: top;\n",
       "    }\n",
       "\n",
       "    .dataframe thead th {\n",
       "        text-align: right;\n",
       "    }\n",
       "</style>\n",
       "<table border=\"1\" class=\"dataframe\">\n",
       "  <thead>\n",
       "    <tr style=\"text-align: right;\">\n",
       "      <th></th>\n",
       "      <th>Id</th>\n",
       "    </tr>\n",
       "  </thead>\n",
       "  <tbody>\n",
       "    <tr>\n",
       "      <th>0</th>\n",
       "      <td>1461</td>\n",
       "    </tr>\n",
       "    <tr>\n",
       "      <th>1</th>\n",
       "      <td>1462</td>\n",
       "    </tr>\n",
       "    <tr>\n",
       "      <th>2</th>\n",
       "      <td>1463</td>\n",
       "    </tr>\n",
       "    <tr>\n",
       "      <th>3</th>\n",
       "      <td>1464</td>\n",
       "    </tr>\n",
       "    <tr>\n",
       "      <th>4</th>\n",
       "      <td>1465</td>\n",
       "    </tr>\n",
       "    <tr>\n",
       "      <th>...</th>\n",
       "      <td>...</td>\n",
       "    </tr>\n",
       "    <tr>\n",
       "      <th>1454</th>\n",
       "      <td>2915</td>\n",
       "    </tr>\n",
       "    <tr>\n",
       "      <th>1455</th>\n",
       "      <td>2916</td>\n",
       "    </tr>\n",
       "    <tr>\n",
       "      <th>1456</th>\n",
       "      <td>2917</td>\n",
       "    </tr>\n",
       "    <tr>\n",
       "      <th>1457</th>\n",
       "      <td>2918</td>\n",
       "    </tr>\n",
       "    <tr>\n",
       "      <th>1458</th>\n",
       "      <td>2919</td>\n",
       "    </tr>\n",
       "  </tbody>\n",
       "</table>\n",
       "<p>1459 rows × 1 columns</p>\n",
       "</div>"
      ],
      "text/plain": [
       "        Id\n",
       "0     1461\n",
       "1     1462\n",
       "2     1463\n",
       "3     1464\n",
       "4     1465\n",
       "...    ...\n",
       "1454  2915\n",
       "1455  2916\n",
       "1456  2917\n",
       "1457  2918\n",
       "1458  2919\n",
       "\n",
       "[1459 rows x 1 columns]"
      ]
     },
     "execution_count": 47,
     "metadata": {},
     "output_type": "execute_result"
    }
   ],
   "source": [
    "id_test"
   ]
  },
  {
   "cell_type": "code",
   "execution_count": 67,
   "metadata": {},
   "outputs": [],
   "source": [
    "# Final prediction"
   ]
  },
  {
   "cell_type": "code",
   "execution_count": 70,
   "metadata": {},
   "outputs": [],
   "source": [
    "predictions2 = model.predict(X_test)"
   ]
  },
  {
   "cell_type": "code",
   "execution_count": 71,
   "metadata": {},
   "outputs": [
    {
     "data": {
      "text/plain": [
       "array([[12.22054978],\n",
       "       [12.09791646],\n",
       "       [12.24402835],\n",
       "       ...,\n",
       "       [12.40451678],\n",
       "       [11.7860125 ],\n",
       "       [11.78241615]])"
      ]
     },
     "execution_count": 71,
     "metadata": {},
     "output_type": "execute_result"
    }
   ],
   "source": [
    "predictions2"
   ]
  },
  {
   "cell_type": "code",
   "execution_count": 75,
   "metadata": {},
   "outputs": [
    {
     "data": {
      "text/plain": [
       "array([12.22054978, 12.09791646, 12.24402835, ..., 12.40451678,\n",
       "       11.7860125 , 11.78241615])"
      ]
     },
     "execution_count": 75,
     "metadata": {},
     "output_type": "execute_result"
    }
   ],
   "source": [
    "predictions2 = predictions2.flatten()"
   ]
  },
  {
   "cell_type": "code",
   "execution_count": 73,
   "metadata": {},
   "outputs": [
    {
     "data": {
      "text/plain": [
       "0.13114740678229392"
      ]
     },
     "execution_count": 73,
     "metadata": {},
     "output_type": "execute_result"
    }
   ],
   "source": [
    "mean_squared_error(y_test, predictions2,squared=False)"
   ]
  },
  {
   "cell_type": "code",
   "execution_count": 48,
   "metadata": {},
   "outputs": [],
   "source": [
    "SalePrice =  np.exp(predictions)"
   ]
  },
  {
   "cell_type": "code",
   "execution_count": 52,
   "metadata": {},
   "outputs": [
    {
     "data": {
      "text/plain": [
       "Id    int64\n",
       "dtype: object"
      ]
     },
     "execution_count": 52,
     "metadata": {},
     "output_type": "execute_result"
    }
   ],
   "source": [
    "id_test.dtypes"
   ]
  },
  {
   "cell_type": "code",
   "execution_count": 65,
   "metadata": {},
   "outputs": [
    {
     "name": "stderr",
     "output_type": "stream",
     "text": [
      "C:\\Users\\dalil\\anaconda3\\lib\\site-packages\\pandas\\core\\internals\\construction.py:305: VisibleDeprecationWarning: Creating an ndarray from ragged nested sequences (which is a list-or-tuple of lists-or-tuples-or ndarrays with different lengths or shapes) is deprecated. If you meant to do this, you must specify 'dtype=object' when creating the ndarray\n",
      "  values = np.array([convert(v) for v in values])\n"
     ]
    },
    {
     "data": {
      "text/html": [
       "<div>\n",
       "<style scoped>\n",
       "    .dataframe tbody tr th:only-of-type {\n",
       "        vertical-align: middle;\n",
       "    }\n",
       "\n",
       "    .dataframe tbody tr th {\n",
       "        vertical-align: top;\n",
       "    }\n",
       "\n",
       "    .dataframe thead th {\n",
       "        text-align: right;\n",
       "    }\n",
       "</style>\n",
       "<table border=\"1\" class=\"dataframe\">\n",
       "  <thead>\n",
       "    <tr style=\"text-align: right;\">\n",
       "      <th></th>\n",
       "      <th>0</th>\n",
       "    </tr>\n",
       "  </thead>\n",
       "  <tbody>\n",
       "    <tr>\n",
       "      <th>0</th>\n",
       "      <td>Id\n",
       "0     1461\n",
       "1     1462\n",
       "2     1463\n",
       "3 ...</td>\n",
       "    </tr>\n",
       "    <tr>\n",
       "      <th>1</th>\n",
       "      <td>[[180444.36608399986], [175805.545461731], [14...</td>\n",
       "    </tr>\n",
       "  </tbody>\n",
       "</table>\n",
       "</div>"
      ],
      "text/plain": [
       "                                                   0\n",
       "0          Id\n",
       "0     1461\n",
       "1     1462\n",
       "2     1463\n",
       "3 ...\n",
       "1  [[180444.36608399986], [175805.545461731], [14..."
      ]
     },
     "execution_count": 65,
     "metadata": {},
     "output_type": "execute_result"
    }
   ],
   "source": [
    "(pd.DataFrame(data=[id_test, SalePrice]))"
   ]
  },
  {
   "cell_type": "code",
   "execution_count": 64,
   "metadata": {},
   "outputs": [
    {
     "data": {
      "text/plain": [
       "array([[180444.366084  ],\n",
       "       [175805.54546173],\n",
       "       [149924.44997892],\n",
       "       [177897.72172331],\n",
       "       [134730.74136049],\n",
       "       [152510.44124616],\n",
       "       [209442.41306561],\n",
       "       [188087.76503118],\n",
       "       [218375.09962404],\n",
       "       [105005.12490608],\n",
       "       [183187.52556638],\n",
       "       [331816.55760791],\n",
       "       [117131.79795728],\n",
       "       [ 91454.62101548],\n",
       "       [136949.8303605 ],\n",
       "       [147909.41997556],\n",
       "       [173458.244402  ],\n",
       "       [138560.79150361],\n",
       "       [205403.39314896],\n",
       "       [169448.45861987],\n",
       "       [438360.63591182],\n",
       "       [253038.20316502],\n",
       "       [172140.66058954],\n",
       "       [121427.93263516],\n",
       "       [115586.07567773],\n",
       "       [161794.64474904],\n",
       "       [124170.781475  ],\n",
       "       [186087.54786834],\n",
       "       [170863.98590591],\n",
       "       [129169.56365554],\n",
       "       [122534.52620021],\n",
       "       [116176.34713586],\n",
       "       [ 97357.9845925 ],\n",
       "       [ 72911.75024374],\n",
       "       [131872.57821373],\n",
       "       [136888.6032407 ],\n",
       "       [110425.29496089],\n",
       "       [144254.14354723],\n",
       "       [266582.28209306],\n",
       "       [181374.28714673],\n",
       "       [251618.86612882],\n",
       "       [119396.27305467],\n",
       "       [135114.80217318],\n",
       "       [200493.86919402],\n",
       "       [236959.98053314],\n",
       "       [237087.89169941],\n",
       "       [108802.54502807],\n",
       "       [328927.84295913],\n",
       "       [211401.23657437],\n",
       "       [237420.3032657 ],\n",
       "       [179677.48247834],\n",
       "       [167376.37565743],\n",
       "       [119508.86624381],\n",
       "       [229441.84766746],\n",
       "       [188167.62901346],\n",
       "       [ 92954.79212842],\n",
       "       [143922.79485257],\n",
       "       [127272.16137646],\n",
       "       [106140.38307218],\n",
       "       [ 96373.81711833],\n",
       "       [181216.13893629],\n",
       "       [174374.55889579],\n",
       "       [256718.51011039],\n",
       "       [337594.06596809],\n",
       "       [206300.78538658],\n",
       "       [220947.12675771],\n",
       "       [204607.73578599],\n",
       "       [111105.80989013],\n",
       "       [126748.64783525],\n",
       "       [119749.72954996],\n",
       "       [ 95962.36191048],\n",
       "       [284134.08655889],\n",
       "       [134362.03445087],\n",
       "       [144261.96031068],\n",
       "       [183611.54439356],\n",
       "       [115342.34323982],\n",
       "       [192115.4606736 ],\n",
       "       [360639.4828802 ],\n",
       "       [120161.44406378],\n",
       "       [ 94292.2084318 ],\n",
       "       [303399.47724859],\n",
       "       [126535.41739605],\n",
       "       [156457.41838331],\n",
       "       [224428.75060524],\n",
       "       [150214.01438391],\n",
       "       [142733.88774645],\n",
       "       [198237.0966716 ],\n",
       "       [ 93178.12238719],\n",
       "       [144054.14075891],\n",
       "       [115408.83523303],\n",
       "       [ 93551.55969456],\n",
       "       [226737.41629028],\n",
       "       [165224.50315299],\n",
       "       [158960.20497688],\n",
       "       [218798.8155148 ],\n",
       "       [116181.04654128],\n",
       "       [179084.89420948],\n",
       "       [184980.61634334],\n",
       "       [129660.69751716],\n",
       "       [222445.03389302],\n",
       "       [258799.12551336],\n",
       "       [119037.72397096],\n",
       "       [ 65405.1446331 ],\n",
       "       [189752.93698694],\n",
       "       [356295.51555243],\n",
       "       [115920.02694402],\n",
       "       [217224.53450722],\n",
       "       [143744.72384561],\n",
       "       [311628.0963012 ],\n",
       "       [169832.19676738],\n",
       "       [204136.71478133],\n",
       "       [151558.00049784],\n",
       "       [128861.07689635],\n",
       "       [231279.07820722],\n",
       "       [115337.72754781],\n",
       "       [127350.80602694],\n",
       "       [226503.42594253],\n",
       "       [141253.9645147 ],\n",
       "       [222829.88186826],\n",
       "       [178997.77011797],\n",
       "       [228873.62489509],\n",
       "       [284793.8884241 ],\n",
       "       [307239.70789574],\n",
       "       [209191.44286379],\n",
       "       [131812.99166688],\n",
       "       [127782.95519745],\n",
       "       [208192.42113414],\n",
       "       [109728.67682733],\n",
       "       [177463.5008167 ],\n",
       "       [ 98839.08345183],\n",
       "       [205654.14562143],\n",
       "       [215839.35211732],\n",
       "       [195455.07232369],\n",
       "       [ 68100.50309559],\n",
       "       [162596.11270442],\n",
       "       [308213.4261153 ],\n",
       "       [143167.13796474],\n",
       "       [116176.34713586],\n",
       "       [396961.17084114],\n",
       "       [114195.88473739],\n",
       "       [ 73123.57530583],\n",
       "       [174210.71197689],\n",
       "       [ 79183.02685436],\n",
       "       [202495.75454125],\n",
       "       [ 62302.70651717],\n",
       "       [154669.57595023],\n",
       "       [125198.31901811],\n",
       "       [136888.6032407 ],\n",
       "       [173100.71864397],\n",
       "       [316910.37855104],\n",
       "       [211548.11315452],\n",
       "       [358151.13663144],\n",
       "       [167364.79464809],\n",
       "       [121512.99304163],\n",
       "       [ 77468.45500494],\n",
       "       [177770.18357783],\n",
       "       [251143.71702413],\n",
       "       [ 51041.51735811],\n",
       "       [125003.65854222],\n",
       "       [194326.16084475],\n",
       "       [243343.69562742],\n",
       "       [177849.29752705],\n",
       "       [187670.41247504],\n",
       "       [349755.38069548],\n",
       "       [194269.80060971],\n",
       "       [126602.75074312],\n",
       "       [204692.06777219],\n",
       "       [173950.87112456],\n",
       "       [205504.26191496],\n",
       "       [ 86641.0832903 ],\n",
       "       [310943.36023741],\n",
       "       [306215.15931931],\n",
       "       [ 62380.66185898],\n",
       "       [308066.21948522],\n",
       "       [104679.68592133],\n",
       "       [365594.08126743],\n",
       "       [139081.13575065],\n",
       "       [174304.87457085],\n",
       "       [144850.68907602],\n",
       "       [220482.18519176],\n",
       "       [140107.1364962 ],\n",
       "       [230348.40777664],\n",
       "       [218082.60663251],\n",
       "       [120372.15611725],\n",
       "       [150331.90197874],\n",
       "       [146480.79164612],\n",
       "       [116176.34713586],\n",
       "       [167260.07017171],\n",
       "       [111719.17563415],\n",
       "       [ 77613.11159958],\n",
       "       [109082.54895161],\n",
       "       [255767.64184697],\n",
       "       [296109.88009513],\n",
       "       [123091.31538732],\n",
       "       [355569.60159636],\n",
       "       [276293.91873241],\n",
       "       [167014.67836924],\n",
       "       [210485.04467531],\n",
       "       [107200.22746355],\n",
       "       [206603.8997088 ],\n",
       "       [218061.62787741],\n",
       "       [243900.77964435],\n",
       "       [238660.84659476],\n",
       "       [ 90891.26628779],\n",
       "       [286815.33034176],\n",
       "       [ 83722.47479116],\n",
       "       [195832.89282945],\n",
       "       [163795.76043854],\n",
       "       [134623.64958774],\n",
       "       [141080.33921111],\n",
       "       [202946.84951821],\n",
       "       [204367.7205305 ],\n",
       "       [169088.24987628],\n",
       "       [243181.96257629],\n",
       "       [212701.81146593],\n",
       "       [220034.21664895],\n",
       "       [341340.81148382],\n",
       "       [181997.68338969],\n",
       "       [120346.19109275],\n",
       "       [183481.49021296],\n",
       "       [222251.9506856 ],\n",
       "       [121232.31946518],\n",
       "       [ 92671.24398179],\n",
       "       [152704.85717253],\n",
       "       [134104.11158518],\n",
       "       [177772.78534881],\n",
       "       [150138.93092174],\n",
       "       [149639.71482103],\n",
       "       [265844.51076752],\n",
       "       [140309.35185681],\n",
       "       [143015.78777476],\n",
       "       [ 70521.40904225],\n",
       "       [165070.52172263],\n",
       "       [132787.23083052],\n",
       "       [177595.82762812],\n",
       "       [101024.96852769],\n",
       "       [157228.06521733],\n",
       "       [166790.13740464],\n",
       "       [131136.54011782],\n",
       "       [179024.9101926 ],\n",
       "       [118868.99948966],\n",
       "       [ 92913.07661626],\n",
       "       [326538.62007878],\n",
       "       [352988.59258594],\n",
       "       [134196.97694905],\n",
       "       [234307.45335421],\n",
       "       [123238.0324923 ],\n",
       "       [ 90959.23082213],\n",
       "       [ 77102.89822732],\n",
       "       [236599.17015112],\n",
       "       [105582.57113236],\n",
       "       [221554.49916973],\n",
       "       [146037.91917948],\n",
       "       [133910.80966446],\n",
       "       [160422.5556251 ],\n",
       "       [119683.71403617],\n",
       "       [206422.00630339],\n",
       "       [164485.33869786],\n",
       "       [177234.75334519],\n",
       "       [122699.75956419],\n",
       "       [115223.71723264],\n",
       "       [104663.41000361],\n",
       "       [387265.96481439],\n",
       "       [112012.85685645],\n",
       "       [187295.13152809],\n",
       "       [233198.90128138],\n",
       "       [123630.76420613],\n",
       "       [115158.39014357],\n",
       "       [205708.97251865],\n",
       "       [131117.1265585 ],\n",
       "       [152389.8312406 ],\n",
       "       [115222.52855073],\n",
       "       [205920.36517642],\n",
       "       [140962.08046536],\n",
       "       [272802.96024985],\n",
       "       [138924.35402692],\n",
       "       [ 85642.54933871],\n",
       "       [210690.46065932],\n",
       "       [249234.5441255 ],\n",
       "       [ 95273.80041296],\n",
       "       [256377.4932929 ],\n",
       "       [122563.86190217],\n",
       "       [ 81819.03390623],\n",
       "       [188170.35321653],\n",
       "       [139753.86269629],\n",
       "       [136122.18713403],\n",
       "       [163894.56593892],\n",
       "       [210935.62935843],\n",
       "       [204642.03256859],\n",
       "       [202722.65844395],\n",
       "       [107129.24224742],\n",
       "       [117629.80931269],\n",
       "       [310554.842058  ],\n",
       "       [129193.7555557 ],\n",
       "       [145558.51796613],\n",
       "       [195381.64464092],\n",
       "       [116634.37647246],\n",
       "       [161723.36674612],\n",
       "       [220274.50703045],\n",
       "       [173475.15587976],\n",
       "       [ 66629.04978841],\n",
       "       [246565.01533199],\n",
       "       [117812.81195483],\n",
       "       [117493.93787894],\n",
       "       [104149.17813859],\n",
       "       [214160.67870976],\n",
       "       [153999.88005548],\n",
       "       [105984.78258313],\n",
       "       [153522.34090011],\n",
       "       [327855.15633642],\n",
       "       [190678.42876344],\n",
       "       [210686.93249742],\n",
       "       [ 87251.00874572],\n",
       "       [194587.16403845],\n",
       "       [195675.03209036],\n",
       "       [177168.5160472 ],\n",
       "       [120052.73798106],\n",
       "       [431390.26519516],\n",
       "       [352077.60652762],\n",
       "       [413020.12175405],\n",
       "       [131716.25695287],\n",
       "       [ 90661.82634588],\n",
       "       [170870.42104816],\n",
       "       [136806.23079312],\n",
       "       [158818.13296805],\n",
       "       [287759.26595108],\n",
       "       [317311.39552111],\n",
       "       [179996.75717291],\n",
       "       [134104.11158518],\n",
       "       [272381.03931965],\n",
       "       [207236.27071526],\n",
       "       [247811.61801915],\n",
       "       [135546.95626491],\n",
       "       [133396.25841323],\n",
       "       [131095.78561467],\n",
       "       [252519.13149753],\n",
       "       [101433.31507015],\n",
       "       [126327.77912256],\n",
       "       [ 93334.64712345],\n",
       "       [164131.87049616],\n",
       "       [213236.46371186],\n",
       "       [184287.1878507 ],\n",
       "       [119749.8197122 ],\n",
       "       [151940.78162089],\n",
       "       [340075.65693639],\n",
       "       [186820.65742916],\n",
       "       [236207.20829085],\n",
       "       [128170.38640917],\n",
       "       [146728.61226274],\n",
       "       [208729.32814998],\n",
       "       [302543.69152029],\n",
       "       [116810.36607935],\n",
       "       [110864.73096992],\n",
       "       [228934.07566254],\n",
       "       [201599.17007262],\n",
       "       [177931.88772075],\n",
       "       [252355.07245932],\n",
       "       [429011.98181519],\n",
       "       [226350.65142783],\n",
       "       [ 78497.090466  ],\n",
       "       [112767.72127744],\n",
       "       [127493.27814926],\n",
       "       [155364.56428847],\n",
       "       [205777.9995169 ],\n",
       "       [162395.46640874],\n",
       "       [348937.16530411],\n",
       "       [166687.9626181 ],\n",
       "       [232668.01034172],\n",
       "       [109451.93453684],\n",
       "       [ 96310.74205878],\n",
       "       [151497.60678497],\n",
       "       [169594.28199969],\n",
       "       [210914.7261703 ],\n",
       "       [103660.31629787],\n",
       "       [146942.36474768],\n",
       "       [ 99524.16253638],\n",
       "       [169822.70900683],\n",
       "       [152400.7349757 ],\n",
       "       [167789.94510922],\n",
       "       [147542.44853836],\n",
       "       [131390.57964646],\n",
       "       [134548.53350223],\n",
       "       [171632.7445102 ],\n",
       "       [130610.43395642],\n",
       "       [225527.82270199],\n",
       "       [182846.04440148],\n",
       "       [303437.16652371],\n",
       "       [206841.37469397],\n",
       "       [ 70598.70338057],\n",
       "       [137103.74839428],\n",
       "       [129428.35290291],\n",
       "       [181094.04985097],\n",
       "       [226284.48464508],\n",
       "       [231892.43071785],\n",
       "       [175728.27927013],\n",
       "       [181893.67183422],\n",
       "       [237674.00949847],\n",
       "       [ 67058.55693907],\n",
       "       [161543.8421802 ],\n",
       "       [107513.31804904],\n",
       "       [173827.24041967],\n",
       "       [175003.31439014],\n",
       "       [255181.77181177],\n",
       "       [250728.526491  ],\n",
       "       [117635.47774181],\n",
       "       [188715.25953187],\n",
       "       [167066.613286  ],\n",
       "       [177515.40354829],\n",
       "       [303085.58855713],\n",
       "       [152916.45094786],\n",
       "       [292503.2046005 ],\n",
       "       [292355.51679678],\n",
       "       [205920.36517642],\n",
       "       [100246.8208178 ],\n",
       "       [118956.54604808],\n",
       "       [140104.36517444],\n",
       "       [133011.42558995],\n",
       "       [135173.36564139],\n",
       "       [237385.34594649],\n",
       "       [143711.54689641],\n",
       "       [220471.87073439],\n",
       "       [121352.27507916],\n",
       "       [116448.74167442],\n",
       "       [ 87063.20328281],\n",
       "       [130550.18399053],\n",
       "       [192546.13068804],\n",
       "       [156427.18185265],\n",
       "       [229913.17664239],\n",
       "       [150979.27071627],\n",
       "       [229857.14155398],\n",
       "       [204734.70989876],\n",
       "       [111932.22746134],\n",
       "       [123860.97935165],\n",
       "       [114421.04675871],\n",
       "       [106662.7197056 ],\n",
       "       [116479.2812809 ],\n",
       "       [167419.15360942]])"
      ]
     },
     "execution_count": 64,
     "metadata": {},
     "output_type": "execute_result"
    }
   ],
   "source": [
    "SalePrice"
   ]
  },
  {
   "cell_type": "code",
   "execution_count": null,
   "metadata": {},
   "outputs": [],
   "source": []
  }
 ],
 "metadata": {
  "kernelspec": {
   "display_name": "Python 3",
   "language": "python",
   "name": "python3"
  },
  "language_info": {
   "codemirror_mode": {
    "name": "ipython",
    "version": 3
   },
   "file_extension": ".py",
   "mimetype": "text/x-python",
   "name": "python",
   "nbconvert_exporter": "python",
   "pygments_lexer": "ipython3",
   "version": "3.8.5"
  }
 },
 "nbformat": 4,
 "nbformat_minor": 4
}
