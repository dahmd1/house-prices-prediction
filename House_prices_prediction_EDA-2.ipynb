{
 "cells": [
  {
   "cell_type": "code",
   "execution_count": 1,
   "metadata": {},
   "outputs": [
    {
     "name": "stdout",
     "output_type": "stream",
     "text": [
      "matplotlib: 3.3.2\n",
      "pandas: 1.1.3\n",
      "sklearn: 0.23.2\n"
     ]
    }
   ],
   "source": [
    "import matplotlib as plt\n",
    "print('matplotlib: {}'.format(plt.__version__))\n",
    "# pandas\n",
    "import pandas as pd\n",
    "print('pandas: {}'.format(pd.__version__))\n",
    "# scikit-learn\n",
    "import sklearn as sk\n",
    "print('sklearn: {}'.format(sk.__version__))\n",
    "from pandas_profiling import ProfileReport\n",
    "import seaborn as sns\n",
    "import numpy as np"
   ]
  },
  {
   "cell_type": "code",
   "execution_count": 2,
   "metadata": {},
   "outputs": [],
   "source": [
    "train = pd.read_csv(\"train.csv\")"
   ]
  },
  {
   "cell_type": "code",
   "execution_count": 3,
   "metadata": {},
   "outputs": [],
   "source": [
    "test = pd.read_csv(\"test.csv\")"
   ]
  },
  {
   "cell_type": "code",
   "execution_count": 4,
   "metadata": {},
   "outputs": [],
   "source": [
    "# Remove outliers as indicated by the creator of the dataset"
   ]
  },
  {
   "cell_type": "code",
   "execution_count": 5,
   "metadata": {},
   "outputs": [],
   "source": [
    "train = train.drop(train[(train['GrLivArea']>4000)].index)"
   ]
  },
  {
   "cell_type": "code",
   "execution_count": 6,
   "metadata": {},
   "outputs": [],
   "source": [
    "import matplotlib.pyplot as plt"
   ]
  },
  {
   "cell_type": "code",
   "execution_count": 7,
   "metadata": {},
   "outputs": [
    {
     "name": "stderr",
     "output_type": "stream",
     "text": [
      "C:\\Users\\dalil\\anaconda3\\lib\\site-packages\\seaborn\\distributions.py:2551: FutureWarning: `distplot` is a deprecated function and will be removed in a future version. Please adapt your code to use either `displot` (a figure-level function with similar flexibility) or `histplot` (an axes-level function for histograms).\n",
      "  warnings.warn(msg, FutureWarning)\n"
     ]
    },
    {
     "name": "stdout",
     "output_type": "stream",
     "text": [
      "Skewness: 0.065449\n",
      "Kurtosis: 0.666438\n"
     ]
    },
    {
     "data": {
      "image/png": "[encoded data removed]",
      "text/plain": [
       "<Figure size 432x288 with 1 Axes>"
      ]
     },
     "metadata": {
      "needs_background": "light"
     },
     "output_type": "display_data"
    }
   ],
   "source": [
    "train['SalePrice_Log'] = np.log(train['SalePrice'])\n",
    "\n",
    "sns.distplot(train['SalePrice_Log']);\n",
    "# skewness and kurtosis\n",
    "print(\"Skewness: %f\" % train['SalePrice_Log'].skew())\n",
    "print(\"Kurtosis: %f\" % train['SalePrice_Log'].kurt())\n",
    "# dropping old column\n",
    "train.drop('SalePrice', axis= 1, inplace=True)"
   ]
  },
  {
   "cell_type": "code",
   "execution_count": 11,
   "metadata": {},
   "outputs": [],
   "source": [
    "# The target variable Sales price is now normally distributed and with a low kurtosis (which means less outliers)"
   ]
  },
  {
   "cell_type": "code",
   "execution_count": 12,
   "metadata": {},
   "outputs": [],
   "source": [
    "# Dealing with missing values"
   ]
  },
  {
   "cell_type": "code",
   "execution_count": 8,
   "metadata": {},
   "outputs": [],
   "source": [
    "cols_fillna = ['PoolQC','MiscFeature','Alley','Fence','MasVnrType','FireplaceQu',\n",
    "               'GarageQual','GarageCond','GarageFinish','GarageType', 'Electrical',\n",
    "               'KitchenQual', 'SaleType', 'Functional', 'Exterior2nd', 'Exterior1st',\n",
    "               'BsmtExposure','BsmtCond','BsmtQual','BsmtFinType1','BsmtFinType2',\n",
    "               'MSZoning', 'Utilities']\n",
    "\n",
    "# replace 'NaN' with 0 in these columns\n",
    "for col in cols_fillna:\n",
    "    train[col].fillna(0,inplace=True)\n",
    "    test[col].fillna(0,inplace=True)"
   ]
  },
  {
   "cell_type": "code",
   "execution_count": 9,
   "metadata": {},
   "outputs": [
    {
     "data": {
      "text/html": [
       "<div>\n",
       "<style scoped>\n",
       "    .dataframe tbody tr th:only-of-type {\n",
       "        vertical-align: middle;\n",
       "    }\n",
       "\n",
       "    .dataframe tbody tr th {\n",
       "        vertical-align: top;\n",
       "    }\n",
       "\n",
       "    .dataframe thead th {\n",
       "        text-align: right;\n",
       "    }\n",
       "</style>\n",
       "<table border=\"1\" class=\"dataframe\">\n",
       "  <thead>\n",
       "    <tr style=\"text-align: right;\">\n",
       "      <th></th>\n",
       "      <th>Total</th>\n",
       "      <th>Percent</th>\n",
       "    </tr>\n",
       "  </thead>\n",
       "  <tbody>\n",
       "    <tr>\n",
       "      <th>LotFrontage</th>\n",
       "      <td>259</td>\n",
       "      <td>0.177885</td>\n",
       "    </tr>\n",
       "    <tr>\n",
       "      <th>GarageYrBlt</th>\n",
       "      <td>81</td>\n",
       "      <td>0.055632</td>\n",
       "    </tr>\n",
       "    <tr>\n",
       "      <th>MasVnrArea</th>\n",
       "      <td>8</td>\n",
       "      <td>0.005495</td>\n",
       "    </tr>\n",
       "    <tr>\n",
       "      <th>SalePrice_Log</th>\n",
       "      <td>0</td>\n",
       "      <td>0.000000</td>\n",
       "    </tr>\n",
       "    <tr>\n",
       "      <th>ExterCond</th>\n",
       "      <td>0</td>\n",
       "      <td>0.000000</td>\n",
       "    </tr>\n",
       "  </tbody>\n",
       "</table>\n",
       "</div>"
      ],
      "text/plain": [
       "               Total   Percent\n",
       "LotFrontage      259  0.177885\n",
       "GarageYrBlt       81  0.055632\n",
       "MasVnrArea         8  0.005495\n",
       "SalePrice_Log      0  0.000000\n",
       "ExterCond          0  0.000000"
      ]
     },
     "execution_count": 9,
     "metadata": {},
     "output_type": "execute_result"
    }
   ],
   "source": [
    "total = train.isnull().sum().sort_values(ascending=False)\n",
    "percent = (train.isnull().sum()/train.isnull().count()).sort_values(ascending=False)\n",
    "missing_data = pd.concat([total, percent], axis=1, keys=['Total', 'Percent'])\n",
    "missing_data.head(5)"
   ]
  },
  {
   "cell_type": "code",
   "execution_count": 10,
   "metadata": {},
   "outputs": [],
   "source": [
    "# fillna with mean for the remaining columns: LotFrontage, GarageYrBlt, MasVnrArea\n",
    "train.fillna(train.mean(), inplace=True)\n",
    "test.fillna(test.mean(), inplace=True)"
   ]
  },
  {
   "cell_type": "code",
   "execution_count": 11,
   "metadata": {},
   "outputs": [
    {
     "data": {
      "text/plain": [
       "0"
      ]
     },
     "execution_count": 11,
     "metadata": {},
     "output_type": "execute_result"
    }
   ],
   "source": [
    "train.isnull().sum().sum()"
   ]
  },
  {
   "cell_type": "code",
   "execution_count": 12,
   "metadata": {},
   "outputs": [
    {
     "data": {
      "text/plain": [
       "0"
      ]
     },
     "execution_count": 12,
     "metadata": {},
     "output_type": "execute_result"
    }
   ],
   "source": [
    "test.isnull().sum().sum()"
   ]
  },
  {
   "cell_type": "code",
   "execution_count": 13,
   "metadata": {},
   "outputs": [],
   "source": [
    "# Handling skewed features"
   ]
  },
  {
   "cell_type": "code",
   "execution_count": 14,
   "metadata": {},
   "outputs": [
    {
     "name": "stderr",
     "output_type": "stream",
     "text": [
      "C:\\Users\\dalil\\anaconda3\\lib\\site-packages\\pandas\\core\\series.py:726: RuntimeWarning: divide by zero encountered in log\n",
      "  result = getattr(ufunc, method)(*inputs, **kwargs)\n"
     ]
    }
   ],
   "source": [
    "for df in [train, test]:\n",
    "    df['GrLivArea_Log'] = np.log(df['GrLivArea'])\n",
    "    df.drop('GrLivArea', inplace= True, axis = 1)\n",
    "    df['LotArea_Log'] = np.log(df['LotArea'])\n",
    "    df.drop('LotArea', inplace= True, axis = 1)\n",
    "    df['MSSubClass_Log']=np.log(df['MSSubClass'])\n",
    "    df.drop('MSSubClass', inplace= True, axis = 1)\n",
    "    df['LotFrontage_Log']=np.log(df['LotFrontage'])\n",
    "    df.drop('LotFrontage', inplace= True, axis = 1)\n",
    "    df['MasVnrArea_Log']=np.log(df['MasVnrArea'])\n",
    "    df.drop('MasVnrArea', inplace= True, axis = 1)\n",
    "    df['BsmtFinSF1_Log']=np.log(df['BsmtFinSF1'])\n",
    "    df.drop('BsmtFinSF1', inplace= True, axis = 1)\n",
    "    df['BsmtFinSF2_Log']=np.log(df['BsmtFinSF2'])\n",
    "    df.drop('BsmtFinSF2', inplace= True, axis = 1)\n",
    "    df['TotalBsmtSF_Log']=np.log(df['TotalBsmtSF'])\n",
    "    df.drop('TotalBsmtSF', inplace= True, axis = 1)\n",
    "    df['1stFlrSF_Log']=np.log(df['1stFlrSF'])\n",
    "    df.drop('1stFlrSF', inplace= True, axis = 1)\n",
    "    df['LowQualFinSF_Log']=np.log(df['LowQualFinSF'])\n",
    "    df.drop('LowQualFinSF', inplace= True, axis = 1)\n",
    "    df['BsmtHalfBath_Log']=np.log(df['BsmtHalfBath'])\n",
    "    df.drop('BsmtHalfBath', inplace= True, axis = 1)\n",
    "    df['KitchenAbvGr_Log']=np.log(df['KitchenAbvGr'])\n",
    "    df.drop('KitchenAbvGr', inplace= True, axis = 1)\n",
    "    df['WoodDeckSF_Log']=np.log(df['WoodDeckSF'])\n",
    "    df.drop('WoodDeckSF', inplace= True, axis = 1)\n",
    "    df['OpenPorchSF_Log']=np.log(df['OpenPorchSF'])\n",
    "    df.drop('OpenPorchSF', inplace= True, axis = 1)\n",
    "    df['EnclosedPorch_Log']=np.log(df['EnclosedPorch'])\n",
    "    df.drop('EnclosedPorch', inplace= True, axis = 1)\n",
    "    df['3SsnPorch_Log']=np.log(df['3SsnPorch'])\n",
    "    df.drop('3SsnPorch', inplace= True, axis = 1)\n",
    "    df['ScreenPorch_Log']=np.log(df['ScreenPorch'])\n",
    "    df.drop('ScreenPorch', inplace= True, axis = 1)\n",
    "    df['PoolArea_Log']=np.log(df['PoolArea'])\n",
    "    df.drop('PoolArea', inplace= True, axis = 1)\n",
    "    df['MiscVal_Log']=np.log(df['MiscVal'])\n",
    "    df.drop('MiscVal', inplace= True, axis = 1)\n",
    "    "
   ]
  },
  {
   "cell_type": "code",
   "execution_count": 15,
   "metadata": {},
   "outputs": [],
   "source": [
    "train = train.replace(-np.inf,0)"
   ]
  },
  {
   "cell_type": "code",
   "execution_count": 16,
   "metadata": {},
   "outputs": [],
   "source": [
    "test = test.replace(-np.inf,0)"
   ]
  },
  {
   "cell_type": "code",
   "execution_count": 17,
   "metadata": {},
   "outputs": [],
   "source": [
    "corr = train.corr()"
   ]
  },
  {
   "cell_type": "code",
   "execution_count": 18,
   "metadata": {},
   "outputs": [],
   "source": [
    "numerical_feats = train.dtypes[train.dtypes != \"object\"].index"
   ]
  },
  {
   "cell_type": "code",
   "execution_count": 19,
   "metadata": {},
   "outputs": [
    {
     "data": {
      "text/plain": [
       "38"
      ]
     },
     "execution_count": 19,
     "metadata": {},
     "output_type": "execute_result"
    }
   ],
   "source": [
    "len (numerical_feats)"
   ]
  },
  {
   "cell_type": "code",
   "execution_count": 20,
   "metadata": {},
   "outputs": [
    {
     "data": {
      "text/html": [
       "<div>\n",
       "<style scoped>\n",
       "    .dataframe tbody tr th:only-of-type {\n",
       "        vertical-align: middle;\n",
       "    }\n",
       "\n",
       "    .dataframe tbody tr th {\n",
       "        vertical-align: top;\n",
       "    }\n",
       "\n",
       "    .dataframe thead th {\n",
       "        text-align: right;\n",
       "    }\n",
       "</style>\n",
       "<table border=\"1\" class=\"dataframe\">\n",
       "  <thead>\n",
       "    <tr style=\"text-align: right;\">\n",
       "      <th></th>\n",
       "      <th>Id</th>\n",
       "      <th>OverallQual</th>\n",
       "      <th>OverallCond</th>\n",
       "      <th>YearBuilt</th>\n",
       "      <th>YearRemodAdd</th>\n",
       "      <th>BsmtUnfSF</th>\n",
       "      <th>2ndFlrSF</th>\n",
       "      <th>BsmtFullBath</th>\n",
       "      <th>FullBath</th>\n",
       "      <th>HalfBath</th>\n",
       "      <th>...</th>\n",
       "      <th>LowQualFinSF_Log</th>\n",
       "      <th>BsmtHalfBath_Log</th>\n",
       "      <th>KitchenAbvGr_Log</th>\n",
       "      <th>WoodDeckSF_Log</th>\n",
       "      <th>OpenPorchSF_Log</th>\n",
       "      <th>EnclosedPorch_Log</th>\n",
       "      <th>3SsnPorch_Log</th>\n",
       "      <th>ScreenPorch_Log</th>\n",
       "      <th>PoolArea_Log</th>\n",
       "      <th>MiscVal_Log</th>\n",
       "    </tr>\n",
       "  </thead>\n",
       "  <tbody>\n",
       "    <tr>\n",
       "      <th>Id</th>\n",
       "      <td>1.000000</td>\n",
       "      <td>-0.032323</td>\n",
       "      <td>0.013337</td>\n",
       "      <td>-0.014034</td>\n",
       "      <td>-0.023076</td>\n",
       "      <td>-0.007000</td>\n",
       "      <td>0.002578</td>\n",
       "      <td>-0.001019</td>\n",
       "      <td>0.004005</td>\n",
       "      <td>0.005248</td>\n",
       "      <td>...</td>\n",
       "      <td>-0.033322</td>\n",
       "      <td>0.004094</td>\n",
       "      <td>0.006925</td>\n",
       "      <td>-0.049519</td>\n",
       "      <td>0.004799</td>\n",
       "      <td>-0.004864</td>\n",
       "      <td>-0.039458</td>\n",
       "      <td>0.004834</td>\n",
       "      <td>0.037939</td>\n",
       "      <td>-0.038408</td>\n",
       "    </tr>\n",
       "    <tr>\n",
       "      <th>OverallQual</th>\n",
       "      <td>-0.032323</td>\n",
       "      <td>1.000000</td>\n",
       "      <td>-0.090692</td>\n",
       "      <td>0.571712</td>\n",
       "      <td>0.550971</td>\n",
       "      <td>0.310164</td>\n",
       "      <td>0.279745</td>\n",
       "      <td>0.104092</td>\n",
       "      <td>0.543791</td>\n",
       "      <td>0.267431</td>\n",
       "      <td>...</td>\n",
       "      <td>-0.029219</td>\n",
       "      <td>0.011144</td>\n",
       "      <td>-0.186824</td>\n",
       "      <td>0.277980</td>\n",
       "      <td>0.441112</td>\n",
       "      <td>-0.157218</td>\n",
       "      <td>0.028877</td>\n",
       "      <td>0.052881</td>\n",
       "      <td>0.021348</td>\n",
       "      <td>-0.084579</td>\n",
       "    </tr>\n",
       "    <tr>\n",
       "      <th>OverallCond</th>\n",
       "      <td>0.013337</td>\n",
       "      <td>-0.090692</td>\n",
       "      <td>1.000000</td>\n",
       "      <td>-0.375691</td>\n",
       "      <td>0.074703</td>\n",
       "      <td>-0.137267</td>\n",
       "      <td>0.031297</td>\n",
       "      <td>-0.053107</td>\n",
       "      <td>-0.194167</td>\n",
       "      <td>-0.059927</td>\n",
       "      <td>...</td>\n",
       "      <td>0.028488</td>\n",
       "      <td>-0.019192</td>\n",
       "      <td>-0.090053</td>\n",
       "      <td>-0.038398</td>\n",
       "      <td>-0.099497</td>\n",
       "      <td>0.092158</td>\n",
       "      <td>0.038758</td>\n",
       "      <td>0.061304</td>\n",
       "      <td>0.002317</td>\n",
       "      <td>0.079141</td>\n",
       "    </tr>\n",
       "    <tr>\n",
       "      <th>YearBuilt</th>\n",
       "      <td>-0.014034</td>\n",
       "      <td>0.571712</td>\n",
       "      <td>-0.375691</td>\n",
       "      <td>1.000000</td>\n",
       "      <td>0.591906</td>\n",
       "      <td>0.148810</td>\n",
       "      <td>0.002953</td>\n",
       "      <td>0.185009</td>\n",
       "      <td>0.466710</td>\n",
       "      <td>0.240144</td>\n",
       "      <td>...</td>\n",
       "      <td>-0.182214</td>\n",
       "      <td>0.023727</td>\n",
       "      <td>-0.173730</td>\n",
       "      <td>0.305444</td>\n",
       "      <td>0.386383</td>\n",
       "      <td>-0.446161</td>\n",
       "      <td>0.029341</td>\n",
       "      <td>-0.058874</td>\n",
       "      <td>-0.016334</td>\n",
       "      <td>-0.077410</td>\n",
       "    </tr>\n",
       "    <tr>\n",
       "      <th>YearRemodAdd</th>\n",
       "      <td>-0.023076</td>\n",
       "      <td>0.550971</td>\n",
       "      <td>0.074703</td>\n",
       "      <td>0.591906</td>\n",
       "      <td>1.000000</td>\n",
       "      <td>0.180972</td>\n",
       "      <td>0.136103</td>\n",
       "      <td>0.116765</td>\n",
       "      <td>0.438212</td>\n",
       "      <td>0.181136</td>\n",
       "      <td>...</td>\n",
       "      <td>-0.057267</td>\n",
       "      <td>0.011103</td>\n",
       "      <td>-0.155422</td>\n",
       "      <td>0.284083</td>\n",
       "      <td>0.380597</td>\n",
       "      <td>-0.226287</td>\n",
       "      <td>0.052715</td>\n",
       "      <td>-0.039353</td>\n",
       "      <td>-0.008236</td>\n",
       "      <td>-0.074210</td>\n",
       "    </tr>\n",
       "    <tr>\n",
       "      <th>BsmtUnfSF</th>\n",
       "      <td>-0.007000</td>\n",
       "      <td>0.310164</td>\n",
       "      <td>-0.137267</td>\n",
       "      <td>0.148810</td>\n",
       "      <td>0.180972</td>\n",
       "      <td>1.000000</td>\n",
       "      <td>0.002749</td>\n",
       "      <td>-0.424026</td>\n",
       "      <td>0.289399</td>\n",
       "      <td>-0.041925</td>\n",
       "      <td>...</td>\n",
       "      <td>0.010867</td>\n",
       "      <td>0.005203</td>\n",
       "      <td>0.025647</td>\n",
       "      <td>0.026472</td>\n",
       "      <td>0.189940</td>\n",
       "      <td>0.000591</td>\n",
       "      <td>0.007775</td>\n",
       "      <td>-0.020870</td>\n",
       "      <td>-0.033871</td>\n",
       "      <td>-0.055960</td>\n",
       "    </tr>\n",
       "    <tr>\n",
       "      <th>2ndFlrSF</th>\n",
       "      <td>0.002578</td>\n",
       "      <td>0.279745</td>\n",
       "      <td>0.031297</td>\n",
       "      <td>0.002953</td>\n",
       "      <td>0.136103</td>\n",
       "      <td>0.002749</td>\n",
       "      <td>1.000000</td>\n",
       "      <td>-0.178521</td>\n",
       "      <td>0.410642</td>\n",
       "      <td>0.609022</td>\n",
       "      <td>...</td>\n",
       "      <td>0.066881</td>\n",
       "      <td>-0.029535</td>\n",
       "      <td>0.057675</td>\n",
       "      <td>0.079667</td>\n",
       "      <td>0.217836</td>\n",
       "      <td>0.042076</td>\n",
       "      <td>-0.021437</td>\n",
       "      <td>0.020892</td>\n",
       "      <td>0.044123</td>\n",
       "      <td>0.000387</td>\n",
       "    </tr>\n",
       "    <tr>\n",
       "      <th>BsmtFullBath</th>\n",
       "      <td>-0.001019</td>\n",
       "      <td>0.104092</td>\n",
       "      <td>-0.053107</td>\n",
       "      <td>0.185009</td>\n",
       "      <td>0.116765</td>\n",
       "      <td>-0.424026</td>\n",
       "      <td>-0.178521</td>\n",
       "      <td>1.000000</td>\n",
       "      <td>-0.069457</td>\n",
       "      <td>-0.034861</td>\n",
       "      <td>...</td>\n",
       "      <td>-0.057104</td>\n",
       "      <td>-0.030385</td>\n",
       "      <td>-0.042689</td>\n",
       "      <td>0.159009</td>\n",
       "      <td>0.071953</td>\n",
       "      <td>-0.074417</td>\n",
       "      <td>0.008868</td>\n",
       "      <td>0.028182</td>\n",
       "      <td>0.041910</td>\n",
       "      <td>-0.000371</td>\n",
       "    </tr>\n",
       "    <tr>\n",
       "      <th>FullBath</th>\n",
       "      <td>0.004005</td>\n",
       "      <td>0.543791</td>\n",
       "      <td>-0.194167</td>\n",
       "      <td>0.466710</td>\n",
       "      <td>0.438212</td>\n",
       "      <td>0.289399</td>\n",
       "      <td>0.410642</td>\n",
       "      <td>-0.069457</td>\n",
       "      <td>1.000000</td>\n",
       "      <td>0.130335</td>\n",
       "      <td>...</td>\n",
       "      <td>0.001231</td>\n",
       "      <td>-0.038058</td>\n",
       "      <td>0.139772</td>\n",
       "      <td>0.226530</td>\n",
       "      <td>0.376760</td>\n",
       "      <td>-0.145011</td>\n",
       "      <td>0.034404</td>\n",
       "      <td>-0.024181</td>\n",
       "      <td>0.024883</td>\n",
       "      <td>-0.043275</td>\n",
       "    </tr>\n",
       "    <tr>\n",
       "      <th>HalfBath</th>\n",
       "      <td>0.005248</td>\n",
       "      <td>0.267431</td>\n",
       "      <td>-0.059927</td>\n",
       "      <td>0.240144</td>\n",
       "      <td>0.181136</td>\n",
       "      <td>-0.041925</td>\n",
       "      <td>0.609022</td>\n",
       "      <td>-0.034861</td>\n",
       "      <td>0.130335</td>\n",
       "      <td>1.000000</td>\n",
       "      <td>...</td>\n",
       "      <td>-0.023304</td>\n",
       "      <td>0.045686</td>\n",
       "      <td>-0.070099</td>\n",
       "      <td>0.107047</td>\n",
       "      <td>0.252237</td>\n",
       "      <td>-0.123713</td>\n",
       "      <td>-0.000506</td>\n",
       "      <td>0.063096</td>\n",
       "      <td>0.002038</td>\n",
       "      <td>-0.027180</td>\n",
       "    </tr>\n",
       "    <tr>\n",
       "      <th>BedroomAbvGr</th>\n",
       "      <td>0.036774</td>\n",
       "      <td>0.096848</td>\n",
       "      <td>0.013249</td>\n",
       "      <td>-0.072623</td>\n",
       "      <td>-0.041919</td>\n",
       "      <td>0.166584</td>\n",
       "      <td>0.502450</td>\n",
       "      <td>-0.152268</td>\n",
       "      <td>0.360990</td>\n",
       "      <td>0.224799</td>\n",
       "      <td>...</td>\n",
       "      <td>0.074576</td>\n",
       "      <td>0.006153</td>\n",
       "      <td>0.212479</td>\n",
       "      <td>0.014997</td>\n",
       "      <td>0.082455</td>\n",
       "      <td>0.011074</td>\n",
       "      <td>-0.025519</td>\n",
       "      <td>0.025380</td>\n",
       "      <td>0.066872</td>\n",
       "      <td>0.014774</td>\n",
       "    </tr>\n",
       "    <tr>\n",
       "      <th>TotRmsAbvGrd</th>\n",
       "      <td>0.023854</td>\n",
       "      <td>0.415834</td>\n",
       "      <td>-0.055766</td>\n",
       "      <td>0.089207</td>\n",
       "      <td>0.187520</td>\n",
       "      <td>0.251936</td>\n",
       "      <td>0.610794</td>\n",
       "      <td>-0.063715</td>\n",
       "      <td>0.549625</td>\n",
       "      <td>0.338618</td>\n",
       "      <td>...</td>\n",
       "      <td>0.097917</td>\n",
       "      <td>-0.023160</td>\n",
       "      <td>0.257828</td>\n",
       "      <td>0.149456</td>\n",
       "      <td>0.254638</td>\n",
       "      <td>-0.024524</td>\n",
       "      <td>-0.006185</td>\n",
       "      <td>0.042564</td>\n",
       "      <td>0.046280</td>\n",
       "      <td>-0.004991</td>\n",
       "    </tr>\n",
       "    <tr>\n",
       "      <th>Fireplaces</th>\n",
       "      <td>-0.024673</td>\n",
       "      <td>0.387425</td>\n",
       "      <td>-0.022277</td>\n",
       "      <td>0.143162</td>\n",
       "      <td>0.108732</td>\n",
       "      <td>0.051797</td>\n",
       "      <td>0.182722</td>\n",
       "      <td>0.130933</td>\n",
       "      <td>0.236477</td>\n",
       "      <td>0.198394</td>\n",
       "      <td>...</td>\n",
       "      <td>-0.035304</td>\n",
       "      <td>-0.006327</td>\n",
       "      <td>-0.127847</td>\n",
       "      <td>0.184230</td>\n",
       "      <td>0.202276</td>\n",
       "      <td>-0.052315</td>\n",
       "      <td>0.025323</td>\n",
       "      <td>0.192305</td>\n",
       "      <td>0.053782</td>\n",
       "      <td>0.007767</td>\n",
       "    </tr>\n",
       "    <tr>\n",
       "      <th>GarageYrBlt</th>\n",
       "      <td>-0.001161</td>\n",
       "      <td>0.517200</td>\n",
       "      <td>-0.305721</td>\n",
       "      <td>0.780104</td>\n",
       "      <td>0.617319</td>\n",
       "      <td>0.185982</td>\n",
       "      <td>0.063329</td>\n",
       "      <td>0.116933</td>\n",
       "      <td>0.467278</td>\n",
       "      <td>0.188571</td>\n",
       "      <td>...</td>\n",
       "      <td>-0.029422</td>\n",
       "      <td>0.021306</td>\n",
       "      <td>-0.106635</td>\n",
       "      <td>0.304941</td>\n",
       "      <td>0.386084</td>\n",
       "      <td>-0.325857</td>\n",
       "      <td>0.021917</td>\n",
       "      <td>-0.090779</td>\n",
       "      <td>-0.038307</td>\n",
       "      <td>-0.049299</td>\n",
       "    </tr>\n",
       "    <tr>\n",
       "      <th>GarageCars</th>\n",
       "      <td>0.015783</td>\n",
       "      <td>0.598739</td>\n",
       "      <td>-0.185494</td>\n",
       "      <td>0.536749</td>\n",
       "      <td>0.419573</td>\n",
       "      <td>0.213772</td>\n",
       "      <td>0.174847</td>\n",
       "      <td>0.130568</td>\n",
       "      <td>0.465325</td>\n",
       "      <td>0.215800</td>\n",
       "      <td>...</td>\n",
       "      <td>-0.094073</td>\n",
       "      <td>-0.013147</td>\n",
       "      <td>-0.056342</td>\n",
       "      <td>0.249547</td>\n",
       "      <td>0.333268</td>\n",
       "      <td>-0.197768</td>\n",
       "      <td>0.034538</td>\n",
       "      <td>0.037241</td>\n",
       "      <td>0.002870</td>\n",
       "      <td>-0.056446</td>\n",
       "    </tr>\n",
       "    <tr>\n",
       "      <th>GarageArea</th>\n",
       "      <td>0.013266</td>\n",
       "      <td>0.554905</td>\n",
       "      <td>-0.150679</td>\n",
       "      <td>0.477311</td>\n",
       "      <td>0.369590</td>\n",
       "      <td>0.184562</td>\n",
       "      <td>0.125023</td>\n",
       "      <td>0.170653</td>\n",
       "      <td>0.400780</td>\n",
       "      <td>0.157317</td>\n",
       "      <td>...</td>\n",
       "      <td>-0.071232</td>\n",
       "      <td>-0.025827</td>\n",
       "      <td>-0.069015</td>\n",
       "      <td>0.221268</td>\n",
       "      <td>0.326111</td>\n",
       "      <td>-0.170315</td>\n",
       "      <td>0.032858</td>\n",
       "      <td>0.042611</td>\n",
       "      <td>0.014686</td>\n",
       "      <td>-0.034580</td>\n",
       "    </tr>\n",
       "    <tr>\n",
       "      <th>MoSold</th>\n",
       "      <td>0.023245</td>\n",
       "      <td>0.076414</td>\n",
       "      <td>-0.003135</td>\n",
       "      <td>0.013881</td>\n",
       "      <td>0.022629</td>\n",
       "      <td>0.035456</td>\n",
       "      <td>0.039163</td>\n",
       "      <td>-0.023770</td>\n",
       "      <td>0.058197</td>\n",
       "      <td>-0.007127</td>\n",
       "      <td>...</td>\n",
       "      <td>-0.009733</td>\n",
       "      <td>-0.004486</td>\n",
       "      <td>0.029337</td>\n",
       "      <td>0.050372</td>\n",
       "      <td>0.066089</td>\n",
       "      <td>-0.027390</td>\n",
       "      <td>0.038887</td>\n",
       "      <td>0.022955</td>\n",
       "      <td>-0.024319</td>\n",
       "      <td>0.010008</td>\n",
       "    </tr>\n",
       "    <tr>\n",
       "      <th>YrSold</th>\n",
       "      <td>0.000793</td>\n",
       "      <td>-0.024321</td>\n",
       "      <td>0.043755</td>\n",
       "      <td>-0.012593</td>\n",
       "      <td>0.036597</td>\n",
       "      <td>-0.040834</td>\n",
       "      <td>-0.024874</td>\n",
       "      <td>0.067665</td>\n",
       "      <td>-0.016574</td>\n",
       "      <td>-0.008853</td>\n",
       "      <td>...</td>\n",
       "      <td>-0.032711</td>\n",
       "      <td>-0.036763</td>\n",
       "      <td>0.025628</td>\n",
       "      <td>0.020258</td>\n",
       "      <td>-0.063720</td>\n",
       "      <td>0.002370</td>\n",
       "      <td>0.009799</td>\n",
       "      <td>0.021697</td>\n",
       "      <td>-0.062670</td>\n",
       "      <td>0.056339</td>\n",
       "    </tr>\n",
       "    <tr>\n",
       "      <th>SalePrice_Log</th>\n",
       "      <td>-0.020511</td>\n",
       "      <td>0.819240</td>\n",
       "      <td>-0.036843</td>\n",
       "      <td>0.588977</td>\n",
       "      <td>0.568986</td>\n",
       "      <td>0.223248</td>\n",
       "      <td>0.306605</td>\n",
       "      <td>0.238851</td>\n",
       "      <td>0.590919</td>\n",
       "      <td>0.311191</td>\n",
       "      <td>...</td>\n",
       "      <td>-0.054332</td>\n",
       "      <td>-0.005216</td>\n",
       "      <td>-0.151583</td>\n",
       "      <td>0.340951</td>\n",
       "      <td>0.461065</td>\n",
       "      <td>-0.207109</td>\n",
       "      <td>0.060107</td>\n",
       "      <td>0.108531</td>\n",
       "      <td>0.040578</td>\n",
       "      <td>-0.066676</td>\n",
       "    </tr>\n",
       "    <tr>\n",
       "      <th>GrLivArea_Log</th>\n",
       "      <td>-0.000755</td>\n",
       "      <td>0.603760</td>\n",
       "      <td>-0.100750</td>\n",
       "      <td>0.230041</td>\n",
       "      <td>0.309083</td>\n",
       "      <td>0.271450</td>\n",
       "      <td>0.655246</td>\n",
       "      <td>0.008855</td>\n",
       "      <td>0.648868</td>\n",
       "      <td>0.426896</td>\n",
       "      <td>...</td>\n",
       "      <td>0.094334</td>\n",
       "      <td>-0.022383</td>\n",
       "      <td>0.114130</td>\n",
       "      <td>0.211759</td>\n",
       "      <td>0.390563</td>\n",
       "      <td>-0.045117</td>\n",
       "      <td>0.035116</td>\n",
       "      <td>0.094970</td>\n",
       "      <td>0.054709</td>\n",
       "      <td>-0.034350</td>\n",
       "    </tr>\n",
       "    <tr>\n",
       "      <th>LotArea_Log</th>\n",
       "      <td>-0.020900</td>\n",
       "      <td>0.163299</td>\n",
       "      <td>-0.004045</td>\n",
       "      <td>0.015143</td>\n",
       "      <td>0.021815</td>\n",
       "      <td>0.076538</td>\n",
       "      <td>0.066047</td>\n",
       "      <td>0.130090</td>\n",
       "      <td>0.169867</td>\n",
       "      <td>0.031153</td>\n",
       "      <td>...</td>\n",
       "      <td>-0.009862</td>\n",
       "      <td>-0.028622</td>\n",
       "      <td>0.005524</td>\n",
       "      <td>0.116978</td>\n",
       "      <td>0.130780</td>\n",
       "      <td>-0.012630</td>\n",
       "      <td>0.056729</td>\n",
       "      <td>0.090260</td>\n",
       "      <td>0.060150</td>\n",
       "      <td>0.082283</td>\n",
       "    </tr>\n",
       "    <tr>\n",
       "      <th>MSSubClass_Log</th>\n",
       "      <td>0.013926</td>\n",
       "      <td>0.076214</td>\n",
       "      <td>-0.038944</td>\n",
       "      <td>-0.005282</td>\n",
       "      <td>0.038453</td>\n",
       "      <td>-0.132142</td>\n",
       "      <td>0.486183</td>\n",
       "      <td>-0.042625</td>\n",
       "      <td>0.180798</td>\n",
       "      <td>0.288497</td>\n",
       "      <td>...</td>\n",
       "      <td>0.081534</td>\n",
       "      <td>0.044880</td>\n",
       "      <td>0.263823</td>\n",
       "      <td>0.038742</td>\n",
       "      <td>0.027665</td>\n",
       "      <td>0.015389</td>\n",
       "      <td>-0.035788</td>\n",
       "      <td>-0.019066</td>\n",
       "      <td>0.020115</td>\n",
       "      <td>-0.027560</td>\n",
       "    </tr>\n",
       "    <tr>\n",
       "      <th>LotFrontage_Log</th>\n",
       "      <td>-0.022998</td>\n",
       "      <td>0.186893</td>\n",
       "      <td>-0.028346</td>\n",
       "      <td>0.080323</td>\n",
       "      <td>0.052339</td>\n",
       "      <td>0.141143</td>\n",
       "      <td>0.027838</td>\n",
       "      <td>0.054799</td>\n",
       "      <td>0.152003</td>\n",
       "      <td>0.007474</td>\n",
       "      <td>...</td>\n",
       "      <td>-0.005985</td>\n",
       "      <td>-0.050943</td>\n",
       "      <td>0.010646</td>\n",
       "      <td>0.052887</td>\n",
       "      <td>0.125556</td>\n",
       "      <td>-0.018070</td>\n",
       "      <td>0.058203</td>\n",
       "      <td>0.047901</td>\n",
       "      <td>0.054077</td>\n",
       "      <td>0.031347</td>\n",
       "    </tr>\n",
       "    <tr>\n",
       "      <th>MasVnrArea_Log</th>\n",
       "      <td>-0.029689</td>\n",
       "      <td>0.414520</td>\n",
       "      <td>-0.160114</td>\n",
       "      <td>0.414494</td>\n",
       "      <td>0.226220</td>\n",
       "      <td>0.112658</td>\n",
       "      <td>0.058712</td>\n",
       "      <td>0.117210</td>\n",
       "      <td>0.280783</td>\n",
       "      <td>0.151305</td>\n",
       "      <td>...</td>\n",
       "      <td>-0.108846</td>\n",
       "      <td>0.039119</td>\n",
       "      <td>-0.052152</td>\n",
       "      <td>0.156023</td>\n",
       "      <td>0.209097</td>\n",
       "      <td>-0.185309</td>\n",
       "      <td>0.046923</td>\n",
       "      <td>0.037045</td>\n",
       "      <td>-0.004036</td>\n",
       "      <td>-0.056184</td>\n",
       "    </tr>\n",
       "    <tr>\n",
       "      <th>BsmtFinSF1_Log</th>\n",
       "      <td>-0.014477</td>\n",
       "      <td>0.045246</td>\n",
       "      <td>0.046574</td>\n",
       "      <td>0.147989</td>\n",
       "      <td>0.009022</td>\n",
       "      <td>-0.587209</td>\n",
       "      <td>-0.168756</td>\n",
       "      <td>0.590836</td>\n",
       "      <td>-0.093101</td>\n",
       "      <td>-0.009220</td>\n",
       "      <td>...</td>\n",
       "      <td>-0.063153</td>\n",
       "      <td>-0.009820</td>\n",
       "      <td>-0.131644</td>\n",
       "      <td>0.078739</td>\n",
       "      <td>0.011081</td>\n",
       "      <td>-0.126517</td>\n",
       "      <td>0.052318</td>\n",
       "      <td>0.074601</td>\n",
       "      <td>0.019827</td>\n",
       "      <td>0.019575</td>\n",
       "    </tr>\n",
       "    <tr>\n",
       "      <th>BsmtFinSF2_Log</th>\n",
       "      <td>-0.004810</td>\n",
       "      <td>-0.099817</td>\n",
       "      <td>0.077689</td>\n",
       "      <td>-0.067924</td>\n",
       "      <td>-0.101740</td>\n",
       "      <td>-0.239874</td>\n",
       "      <td>-0.099558</td>\n",
       "      <td>0.152068</td>\n",
       "      <td>-0.097125</td>\n",
       "      <td>-0.047019</td>\n",
       "      <td>...</td>\n",
       "      <td>0.006227</td>\n",
       "      <td>-0.013197</td>\n",
       "      <td>-0.039358</td>\n",
       "      <td>0.060404</td>\n",
       "      <td>-0.076466</td>\n",
       "      <td>0.038158</td>\n",
       "      <td>-0.022776</td>\n",
       "      <td>0.063676</td>\n",
       "      <td>0.088091</td>\n",
       "      <td>0.027739</td>\n",
       "    </tr>\n",
       "    <tr>\n",
       "      <th>TotalBsmtSF_Log</th>\n",
       "      <td>-0.004739</td>\n",
       "      <td>0.339849</td>\n",
       "      <td>0.009838</td>\n",
       "      <td>0.196545</td>\n",
       "      <td>0.203034</td>\n",
       "      <td>0.310868</td>\n",
       "      <td>-0.021421</td>\n",
       "      <td>0.210136</td>\n",
       "      <td>0.085734</td>\n",
       "      <td>0.078105</td>\n",
       "      <td>...</td>\n",
       "      <td>-0.021452</td>\n",
       "      <td>0.008048</td>\n",
       "      <td>-0.261461</td>\n",
       "      <td>0.149249</td>\n",
       "      <td>0.180344</td>\n",
       "      <td>-0.041093</td>\n",
       "      <td>0.003194</td>\n",
       "      <td>0.070922</td>\n",
       "      <td>0.012219</td>\n",
       "      <td>-0.056947</td>\n",
       "    </tr>\n",
       "    <tr>\n",
       "      <th>1stFlrSF_Log</th>\n",
       "      <td>0.004733</td>\n",
       "      <td>0.442746</td>\n",
       "      <td>-0.135873</td>\n",
       "      <td>0.272845</td>\n",
       "      <td>0.229650</td>\n",
       "      <td>0.322448</td>\n",
       "      <td>-0.248476</td>\n",
       "      <td>0.237134</td>\n",
       "      <td>0.358910</td>\n",
       "      <td>-0.150998</td>\n",
       "      <td>...</td>\n",
       "      <td>-0.041423</td>\n",
       "      <td>0.007328</td>\n",
       "      <td>0.077149</td>\n",
       "      <td>0.193836</td>\n",
       "      <td>0.236489</td>\n",
       "      <td>-0.112031</td>\n",
       "      <td>0.060650</td>\n",
       "      <td>0.106684</td>\n",
       "      <td>0.037225</td>\n",
       "      <td>-0.041006</td>\n",
       "    </tr>\n",
       "    <tr>\n",
       "      <th>LowQualFinSF_Log</th>\n",
       "      <td>-0.033322</td>\n",
       "      <td>-0.029219</td>\n",
       "      <td>0.028488</td>\n",
       "      <td>-0.182214</td>\n",
       "      <td>-0.057267</td>\n",
       "      <td>0.010867</td>\n",
       "      <td>0.066881</td>\n",
       "      <td>-0.057104</td>\n",
       "      <td>0.001231</td>\n",
       "      <td>-0.023304</td>\n",
       "      <td>...</td>\n",
       "      <td>1.000000</td>\n",
       "      <td>-0.004961</td>\n",
       "      <td>-0.002457</td>\n",
       "      <td>-0.037596</td>\n",
       "      <td>0.000054</td>\n",
       "      <td>0.047066</td>\n",
       "      <td>0.016627</td>\n",
       "      <td>-0.014204</td>\n",
       "      <td>0.083757</td>\n",
       "      <td>0.025083</td>\n",
       "    </tr>\n",
       "    <tr>\n",
       "      <th>BsmtHalfBath_Log</th>\n",
       "      <td>0.004094</td>\n",
       "      <td>0.011144</td>\n",
       "      <td>-0.019192</td>\n",
       "      <td>0.023727</td>\n",
       "      <td>0.011103</td>\n",
       "      <td>0.005203</td>\n",
       "      <td>-0.029535</td>\n",
       "      <td>-0.030385</td>\n",
       "      <td>-0.038058</td>\n",
       "      <td>0.045686</td>\n",
       "      <td>...</td>\n",
       "      <td>-0.004961</td>\n",
       "      <td>1.000000</td>\n",
       "      <td>-0.008105</td>\n",
       "      <td>-0.000741</td>\n",
       "      <td>-0.015649</td>\n",
       "      <td>-0.015013</td>\n",
       "      <td>-0.004772</td>\n",
       "      <td>-0.010874</td>\n",
       "      <td>-0.002177</td>\n",
       "      <td>-0.007074</td>\n",
       "    </tr>\n",
       "    <tr>\n",
       "      <th>KitchenAbvGr_Log</th>\n",
       "      <td>0.006925</td>\n",
       "      <td>-0.186824</td>\n",
       "      <td>-0.090053</td>\n",
       "      <td>-0.173730</td>\n",
       "      <td>-0.155422</td>\n",
       "      <td>0.025647</td>\n",
       "      <td>0.057675</td>\n",
       "      <td>-0.042689</td>\n",
       "      <td>0.139772</td>\n",
       "      <td>-0.070099</td>\n",
       "      <td>...</td>\n",
       "      <td>-0.002457</td>\n",
       "      <td>-0.008105</td>\n",
       "      <td>1.000000</td>\n",
       "      <td>-0.100914</td>\n",
       "      <td>-0.124403</td>\n",
       "      <td>0.037083</td>\n",
       "      <td>-0.028121</td>\n",
       "      <td>-0.053571</td>\n",
       "      <td>-0.012825</td>\n",
       "      <td>0.036168</td>\n",
       "    </tr>\n",
       "    <tr>\n",
       "      <th>WoodDeckSF_Log</th>\n",
       "      <td>-0.049519</td>\n",
       "      <td>0.277980</td>\n",
       "      <td>-0.038398</td>\n",
       "      <td>0.305444</td>\n",
       "      <td>0.284083</td>\n",
       "      <td>0.026472</td>\n",
       "      <td>0.079667</td>\n",
       "      <td>0.159009</td>\n",
       "      <td>0.226530</td>\n",
       "      <td>0.107047</td>\n",
       "      <td>...</td>\n",
       "      <td>-0.037596</td>\n",
       "      <td>-0.000741</td>\n",
       "      <td>-0.100914</td>\n",
       "      <td>1.000000</td>\n",
       "      <td>0.131499</td>\n",
       "      <td>-0.164274</td>\n",
       "      <td>-0.023632</td>\n",
       "      <td>-0.090060</td>\n",
       "      <td>0.024058</td>\n",
       "      <td>0.006506</td>\n",
       "    </tr>\n",
       "    <tr>\n",
       "      <th>OpenPorchSF_Log</th>\n",
       "      <td>0.004799</td>\n",
       "      <td>0.441112</td>\n",
       "      <td>-0.099497</td>\n",
       "      <td>0.386383</td>\n",
       "      <td>0.380597</td>\n",
       "      <td>0.189940</td>\n",
       "      <td>0.217836</td>\n",
       "      <td>0.071953</td>\n",
       "      <td>0.376760</td>\n",
       "      <td>0.252237</td>\n",
       "      <td>...</td>\n",
       "      <td>0.000054</td>\n",
       "      <td>-0.015649</td>\n",
       "      <td>-0.124403</td>\n",
       "      <td>0.131499</td>\n",
       "      <td>1.000000</td>\n",
       "      <td>-0.182412</td>\n",
       "      <td>0.020929</td>\n",
       "      <td>0.005534</td>\n",
       "      <td>0.008376</td>\n",
       "      <td>-0.036076</td>\n",
       "    </tr>\n",
       "    <tr>\n",
       "      <th>EnclosedPorch_Log</th>\n",
       "      <td>-0.004864</td>\n",
       "      <td>-0.157218</td>\n",
       "      <td>0.092158</td>\n",
       "      <td>-0.446161</td>\n",
       "      <td>-0.226287</td>\n",
       "      <td>0.000591</td>\n",
       "      <td>0.042076</td>\n",
       "      <td>-0.074417</td>\n",
       "      <td>-0.145011</td>\n",
       "      <td>-0.123713</td>\n",
       "      <td>...</td>\n",
       "      <td>0.047066</td>\n",
       "      <td>-0.015013</td>\n",
       "      <td>0.037083</td>\n",
       "      <td>-0.164274</td>\n",
       "      <td>-0.182412</td>\n",
       "      <td>1.000000</td>\n",
       "      <td>-0.039097</td>\n",
       "      <td>-0.082818</td>\n",
       "      <td>0.018197</td>\n",
       "      <td>0.039051</td>\n",
       "    </tr>\n",
       "    <tr>\n",
       "      <th>3SsnPorch_Log</th>\n",
       "      <td>-0.039458</td>\n",
       "      <td>0.028877</td>\n",
       "      <td>0.038758</td>\n",
       "      <td>0.029341</td>\n",
       "      <td>0.052715</td>\n",
       "      <td>0.007775</td>\n",
       "      <td>-0.021437</td>\n",
       "      <td>0.008868</td>\n",
       "      <td>0.034404</td>\n",
       "      <td>-0.000506</td>\n",
       "      <td>...</td>\n",
       "      <td>0.016627</td>\n",
       "      <td>-0.004772</td>\n",
       "      <td>-0.028121</td>\n",
       "      <td>-0.023632</td>\n",
       "      <td>0.020929</td>\n",
       "      <td>-0.039097</td>\n",
       "      <td>1.000000</td>\n",
       "      <td>-0.037728</td>\n",
       "      <td>-0.007552</td>\n",
       "      <td>0.007181</td>\n",
       "    </tr>\n",
       "    <tr>\n",
       "      <th>ScreenPorch_Log</th>\n",
       "      <td>0.004834</td>\n",
       "      <td>0.052881</td>\n",
       "      <td>0.061304</td>\n",
       "      <td>-0.058874</td>\n",
       "      <td>-0.039353</td>\n",
       "      <td>-0.020870</td>\n",
       "      <td>0.020892</td>\n",
       "      <td>0.028182</td>\n",
       "      <td>-0.024181</td>\n",
       "      <td>0.063096</td>\n",
       "      <td>...</td>\n",
       "      <td>-0.014204</td>\n",
       "      <td>-0.010874</td>\n",
       "      <td>-0.053571</td>\n",
       "      <td>-0.090060</td>\n",
       "      <td>0.005534</td>\n",
       "      <td>-0.082818</td>\n",
       "      <td>-0.037728</td>\n",
       "      <td>1.000000</td>\n",
       "      <td>0.032661</td>\n",
       "      <td>0.024094</td>\n",
       "    </tr>\n",
       "    <tr>\n",
       "      <th>PoolArea_Log</th>\n",
       "      <td>0.037939</td>\n",
       "      <td>0.021348</td>\n",
       "      <td>0.002317</td>\n",
       "      <td>-0.016334</td>\n",
       "      <td>-0.008236</td>\n",
       "      <td>-0.033871</td>\n",
       "      <td>0.044123</td>\n",
       "      <td>0.041910</td>\n",
       "      <td>0.024883</td>\n",
       "      <td>0.002038</td>\n",
       "      <td>...</td>\n",
       "      <td>0.083757</td>\n",
       "      <td>-0.002177</td>\n",
       "      <td>-0.012825</td>\n",
       "      <td>0.024058</td>\n",
       "      <td>0.008376</td>\n",
       "      <td>0.018197</td>\n",
       "      <td>-0.007552</td>\n",
       "      <td>0.032661</td>\n",
       "      <td>1.000000</td>\n",
       "      <td>0.060008</td>\n",
       "    </tr>\n",
       "    <tr>\n",
       "      <th>MiscVal_Log</th>\n",
       "      <td>-0.038408</td>\n",
       "      <td>-0.084579</td>\n",
       "      <td>0.079141</td>\n",
       "      <td>-0.077410</td>\n",
       "      <td>-0.074210</td>\n",
       "      <td>-0.055960</td>\n",
       "      <td>0.000387</td>\n",
       "      <td>-0.000371</td>\n",
       "      <td>-0.043275</td>\n",
       "      <td>-0.027180</td>\n",
       "      <td>...</td>\n",
       "      <td>0.025083</td>\n",
       "      <td>-0.007074</td>\n",
       "      <td>0.036168</td>\n",
       "      <td>0.006506</td>\n",
       "      <td>-0.036076</td>\n",
       "      <td>0.039051</td>\n",
       "      <td>0.007181</td>\n",
       "      <td>0.024094</td>\n",
       "      <td>0.060008</td>\n",
       "      <td>1.000000</td>\n",
       "    </tr>\n",
       "  </tbody>\n",
       "</table>\n",
       "<p>38 rows × 38 columns</p>\n",
       "</div>"
      ],
      "text/plain": [
       "                         Id  OverallQual  OverallCond  YearBuilt  \\\n",
       "Id                 1.000000    -0.032323     0.013337  -0.014034   \n",
       "OverallQual       -0.032323     1.000000    -0.090692   0.571712   \n",
       "OverallCond        0.013337    -0.090692     1.000000  -0.375691   \n",
       "YearBuilt         -0.014034     0.571712    -0.375691   1.000000   \n",
       "YearRemodAdd      -0.023076     0.550971     0.074703   0.591906   \n",
       "BsmtUnfSF         -0.007000     0.310164    -0.137267   0.148810   \n",
       "2ndFlrSF           0.002578     0.279745     0.031297   0.002953   \n",
       "BsmtFullBath      -0.001019     0.104092    -0.053107   0.185009   \n",
       "FullBath           0.004005     0.543791    -0.194167   0.466710   \n",
       "HalfBath           0.005248     0.267431    -0.059927   0.240144   \n",
       "BedroomAbvGr       0.036774     0.096848     0.013249  -0.072623   \n",
       "TotRmsAbvGrd       0.023854     0.415834    -0.055766   0.089207   \n",
       "Fireplaces        -0.024673     0.387425    -0.022277   0.143162   \n",
       "GarageYrBlt       -0.001161     0.517200    -0.305721   0.780104   \n",
       "GarageCars         0.015783     0.598739    -0.185494   0.536749   \n",
       "GarageArea         0.013266     0.554905    -0.150679   0.477311   \n",
       "MoSold             0.023245     0.076414    -0.003135   0.013881   \n",
       "YrSold             0.000793    -0.024321     0.043755  -0.012593   \n",
       "SalePrice_Log     -0.020511     0.819240    -0.036843   0.588977   \n",
       "GrLivArea_Log     -0.000755     0.603760    -0.100750   0.230041   \n",
       "LotArea_Log       -0.020900     0.163299    -0.004045   0.015143   \n",
       "MSSubClass_Log     0.013926     0.076214    -0.038944  -0.005282   \n",
       "LotFrontage_Log   -0.022998     0.186893    -0.028346   0.080323   \n",
       "MasVnrArea_Log    -0.029689     0.414520    -0.160114   0.414494   \n",
       "BsmtFinSF1_Log    -0.014477     0.045246     0.046574   0.147989   \n",
       "BsmtFinSF2_Log    -0.004810    -0.099817     0.077689  -0.067924   \n",
       "TotalBsmtSF_Log   -0.004739     0.339849     0.009838   0.196545   \n",
       "1stFlrSF_Log       0.004733     0.442746    -0.135873   0.272845   \n",
       "LowQualFinSF_Log  -0.033322    -0.029219     0.028488  -0.182214   \n",
       "BsmtHalfBath_Log   0.004094     0.011144    -0.019192   0.023727   \n",
       "KitchenAbvGr_Log   0.006925    -0.186824    -0.090053  -0.173730   \n",
       "WoodDeckSF_Log    -0.049519     0.277980    -0.038398   0.305444   \n",
       "OpenPorchSF_Log    0.004799     0.441112    -0.099497   0.386383   \n",
       "EnclosedPorch_Log -0.004864    -0.157218     0.092158  -0.446161   \n",
       "3SsnPorch_Log     -0.039458     0.028877     0.038758   0.029341   \n",
       "ScreenPorch_Log    0.004834     0.052881     0.061304  -0.058874   \n",
       "PoolArea_Log       0.037939     0.021348     0.002317  -0.016334   \n",
       "MiscVal_Log       -0.038408    -0.084579     0.079141  -0.077410   \n",
       "\n",
       "                   YearRemodAdd  BsmtUnfSF  2ndFlrSF  BsmtFullBath  FullBath  \\\n",
       "Id                    -0.023076  -0.007000  0.002578     -0.001019  0.004005   \n",
       "OverallQual            0.550971   0.310164  0.279745      0.104092  0.543791   \n",
       "OverallCond            0.074703  -0.137267  0.031297     -0.053107 -0.194167   \n",
       "YearBuilt              0.591906   0.148810  0.002953      0.185009  0.466710   \n",
       "YearRemodAdd           1.000000   0.180972  0.136103      0.116765  0.438212   \n",
       "BsmtUnfSF              0.180972   1.000000  0.002749     -0.424026  0.289399   \n",
       "2ndFlrSF               0.136103   0.002749  1.000000     -0.178521  0.410642   \n",
       "BsmtFullBath           0.116765  -0.424026 -0.178521      1.000000 -0.069457   \n",
       "FullBath               0.438212   0.289399  0.410642     -0.069457  1.000000   \n",
       "HalfBath               0.181136  -0.041925  0.609022     -0.034861  0.130335   \n",
       "BedroomAbvGr          -0.041919   0.166584  0.502450     -0.152268  0.360990   \n",
       "TotRmsAbvGrd           0.187520   0.251936  0.610794     -0.063715  0.549625   \n",
       "Fireplaces             0.108732   0.051797  0.182722      0.130933  0.236477   \n",
       "GarageYrBlt            0.617319   0.185982  0.063329      0.116933  0.467278   \n",
       "GarageCars             0.419573   0.213772  0.174847      0.130568  0.465325   \n",
       "GarageArea             0.369590   0.184562  0.125023      0.170653  0.400780   \n",
       "MoSold                 0.022629   0.035456  0.039163     -0.023770  0.058197   \n",
       "YrSold                 0.036597  -0.040834 -0.024874      0.067665 -0.016574   \n",
       "SalePrice_Log          0.568986   0.223248  0.306605      0.238851  0.590919   \n",
       "GrLivArea_Log          0.309083   0.271450  0.655246      0.008855  0.648868   \n",
       "LotArea_Log            0.021815   0.076538  0.066047      0.130090  0.169867   \n",
       "MSSubClass_Log         0.038453  -0.132142  0.486183     -0.042625  0.180798   \n",
       "LotFrontage_Log        0.052339   0.141143  0.027838      0.054799  0.152003   \n",
       "MasVnrArea_Log         0.226220   0.112658  0.058712      0.117210  0.280783   \n",
       "BsmtFinSF1_Log         0.009022  -0.587209 -0.168756      0.590836 -0.093101   \n",
       "BsmtFinSF2_Log        -0.101740  -0.239874 -0.099558      0.152068 -0.097125   \n",
       "TotalBsmtSF_Log        0.203034   0.310868 -0.021421      0.210136  0.085734   \n",
       "1stFlrSF_Log           0.229650   0.322448 -0.248476      0.237134  0.358910   \n",
       "LowQualFinSF_Log      -0.057267   0.010867  0.066881     -0.057104  0.001231   \n",
       "BsmtHalfBath_Log       0.011103   0.005203 -0.029535     -0.030385 -0.038058   \n",
       "KitchenAbvGr_Log      -0.155422   0.025647  0.057675     -0.042689  0.139772   \n",
       "WoodDeckSF_Log         0.284083   0.026472  0.079667      0.159009  0.226530   \n",
       "OpenPorchSF_Log        0.380597   0.189940  0.217836      0.071953  0.376760   \n",
       "EnclosedPorch_Log     -0.226287   0.000591  0.042076     -0.074417 -0.145011   \n",
       "3SsnPorch_Log          0.052715   0.007775 -0.021437      0.008868  0.034404   \n",
       "ScreenPorch_Log       -0.039353  -0.020870  0.020892      0.028182 -0.024181   \n",
       "PoolArea_Log          -0.008236  -0.033871  0.044123      0.041910  0.024883   \n",
       "MiscVal_Log           -0.074210  -0.055960  0.000387     -0.000371 -0.043275   \n",
       "\n",
       "                   HalfBath  ...  LowQualFinSF_Log  BsmtHalfBath_Log  \\\n",
       "Id                 0.005248  ...         -0.033322          0.004094   \n",
       "OverallQual        0.267431  ...         -0.029219          0.011144   \n",
       "OverallCond       -0.059927  ...          0.028488         -0.019192   \n",
       "YearBuilt          0.240144  ...         -0.182214          0.023727   \n",
       "YearRemodAdd       0.181136  ...         -0.057267          0.011103   \n",
       "BsmtUnfSF         -0.041925  ...          0.010867          0.005203   \n",
       "2ndFlrSF           0.609022  ...          0.066881         -0.029535   \n",
       "BsmtFullBath      -0.034861  ...         -0.057104         -0.030385   \n",
       "FullBath           0.130335  ...          0.001231         -0.038058   \n",
       "HalfBath           1.000000  ...         -0.023304          0.045686   \n",
       "BedroomAbvGr       0.224799  ...          0.074576          0.006153   \n",
       "TotRmsAbvGrd       0.338618  ...          0.097917         -0.023160   \n",
       "Fireplaces         0.198394  ...         -0.035304         -0.006327   \n",
       "GarageYrBlt        0.188571  ...         -0.029422          0.021306   \n",
       "GarageCars         0.215800  ...         -0.094073         -0.013147   \n",
       "GarageArea         0.157317  ...         -0.071232         -0.025827   \n",
       "MoSold            -0.007127  ...         -0.009733         -0.004486   \n",
       "YrSold            -0.008853  ...         -0.032711         -0.036763   \n",
       "SalePrice_Log      0.311191  ...         -0.054332         -0.005216   \n",
       "GrLivArea_Log      0.426896  ...          0.094334         -0.022383   \n",
       "LotArea_Log        0.031153  ...         -0.009862         -0.028622   \n",
       "MSSubClass_Log     0.288497  ...          0.081534          0.044880   \n",
       "LotFrontage_Log    0.007474  ...         -0.005985         -0.050943   \n",
       "MasVnrArea_Log     0.151305  ...         -0.108846          0.039119   \n",
       "BsmtFinSF1_Log    -0.009220  ...         -0.063153         -0.009820   \n",
       "BsmtFinSF2_Log    -0.047019  ...          0.006227         -0.013197   \n",
       "TotalBsmtSF_Log    0.078105  ...         -0.021452          0.008048   \n",
       "1stFlrSF_Log      -0.150998  ...         -0.041423          0.007328   \n",
       "LowQualFinSF_Log  -0.023304  ...          1.000000         -0.004961   \n",
       "BsmtHalfBath_Log   0.045686  ...         -0.004961          1.000000   \n",
       "KitchenAbvGr_Log  -0.070099  ...         -0.002457         -0.008105   \n",
       "WoodDeckSF_Log     0.107047  ...         -0.037596         -0.000741   \n",
       "OpenPorchSF_Log    0.252237  ...          0.000054         -0.015649   \n",
       "EnclosedPorch_Log -0.123713  ...          0.047066         -0.015013   \n",
       "3SsnPorch_Log     -0.000506  ...          0.016627         -0.004772   \n",
       "ScreenPorch_Log    0.063096  ...         -0.014204         -0.010874   \n",
       "PoolArea_Log       0.002038  ...          0.083757         -0.002177   \n",
       "MiscVal_Log       -0.027180  ...          0.025083         -0.007074   \n",
       "\n",
       "                   KitchenAbvGr_Log  WoodDeckSF_Log  OpenPorchSF_Log  \\\n",
       "Id                         0.006925       -0.049519         0.004799   \n",
       "OverallQual               -0.186824        0.277980         0.441112   \n",
       "OverallCond               -0.090053       -0.038398        -0.099497   \n",
       "YearBuilt                 -0.173730        0.305444         0.386383   \n",
       "YearRemodAdd              -0.155422        0.284083         0.380597   \n",
       "BsmtUnfSF                  0.025647        0.026472         0.189940   \n",
       "2ndFlrSF                   0.057675        0.079667         0.217836   \n",
       "BsmtFullBath              -0.042689        0.159009         0.071953   \n",
       "FullBath                   0.139772        0.226530         0.376760   \n",
       "HalfBath                  -0.070099        0.107047         0.252237   \n",
       "BedroomAbvGr               0.212479        0.014997         0.082455   \n",
       "TotRmsAbvGrd               0.257828        0.149456         0.254638   \n",
       "Fireplaces                -0.127847        0.184230         0.202276   \n",
       "GarageYrBlt               -0.106635        0.304941         0.386084   \n",
       "GarageCars                -0.056342        0.249547         0.333268   \n",
       "GarageArea                -0.069015        0.221268         0.326111   \n",
       "MoSold                     0.029337        0.050372         0.066089   \n",
       "YrSold                     0.025628        0.020258        -0.063720   \n",
       "SalePrice_Log             -0.151583        0.340951         0.461065   \n",
       "GrLivArea_Log              0.114130        0.211759         0.390563   \n",
       "LotArea_Log                0.005524        0.116978         0.130780   \n",
       "MSSubClass_Log             0.263823        0.038742         0.027665   \n",
       "LotFrontage_Log            0.010646        0.052887         0.125556   \n",
       "MasVnrArea_Log            -0.052152        0.156023         0.209097   \n",
       "BsmtFinSF1_Log            -0.131644        0.078739         0.011081   \n",
       "BsmtFinSF2_Log            -0.039358        0.060404        -0.076466   \n",
       "TotalBsmtSF_Log           -0.261461        0.149249         0.180344   \n",
       "1stFlrSF_Log               0.077149        0.193836         0.236489   \n",
       "LowQualFinSF_Log          -0.002457       -0.037596         0.000054   \n",
       "BsmtHalfBath_Log          -0.008105       -0.000741        -0.015649   \n",
       "KitchenAbvGr_Log           1.000000       -0.100914        -0.124403   \n",
       "WoodDeckSF_Log            -0.100914        1.000000         0.131499   \n",
       "OpenPorchSF_Log           -0.124403        0.131499         1.000000   \n",
       "EnclosedPorch_Log          0.037083       -0.164274        -0.182412   \n",
       "3SsnPorch_Log             -0.028121       -0.023632         0.020929   \n",
       "ScreenPorch_Log           -0.053571       -0.090060         0.005534   \n",
       "PoolArea_Log              -0.012825        0.024058         0.008376   \n",
       "MiscVal_Log                0.036168        0.006506        -0.036076   \n",
       "\n",
       "                   EnclosedPorch_Log  3SsnPorch_Log  ScreenPorch_Log  \\\n",
       "Id                         -0.004864      -0.039458         0.004834   \n",
       "OverallQual                -0.157218       0.028877         0.052881   \n",
       "OverallCond                 0.092158       0.038758         0.061304   \n",
       "YearBuilt                  -0.446161       0.029341        -0.058874   \n",
       "YearRemodAdd               -0.226287       0.052715        -0.039353   \n",
       "BsmtUnfSF                   0.000591       0.007775        -0.020870   \n",
       "2ndFlrSF                    0.042076      -0.021437         0.020892   \n",
       "BsmtFullBath               -0.074417       0.008868         0.028182   \n",
       "FullBath                   -0.145011       0.034404        -0.024181   \n",
       "HalfBath                   -0.123713      -0.000506         0.063096   \n",
       "BedroomAbvGr                0.011074      -0.025519         0.025380   \n",
       "TotRmsAbvGrd               -0.024524      -0.006185         0.042564   \n",
       "Fireplaces                 -0.052315       0.025323         0.192305   \n",
       "GarageYrBlt                -0.325857       0.021917        -0.090779   \n",
       "GarageCars                 -0.197768       0.034538         0.037241   \n",
       "GarageArea                 -0.170315       0.032858         0.042611   \n",
       "MoSold                     -0.027390       0.038887         0.022955   \n",
       "YrSold                      0.002370       0.009799         0.021697   \n",
       "SalePrice_Log              -0.207109       0.060107         0.108531   \n",
       "GrLivArea_Log              -0.045117       0.035116         0.094970   \n",
       "LotArea_Log                -0.012630       0.056729         0.090260   \n",
       "MSSubClass_Log              0.015389      -0.035788        -0.019066   \n",
       "LotFrontage_Log            -0.018070       0.058203         0.047901   \n",
       "MasVnrArea_Log             -0.185309       0.046923         0.037045   \n",
       "BsmtFinSF1_Log             -0.126517       0.052318         0.074601   \n",
       "BsmtFinSF2_Log              0.038158      -0.022776         0.063676   \n",
       "TotalBsmtSF_Log            -0.041093       0.003194         0.070922   \n",
       "1stFlrSF_Log               -0.112031       0.060650         0.106684   \n",
       "LowQualFinSF_Log            0.047066       0.016627        -0.014204   \n",
       "BsmtHalfBath_Log           -0.015013      -0.004772        -0.010874   \n",
       "KitchenAbvGr_Log            0.037083      -0.028121        -0.053571   \n",
       "WoodDeckSF_Log             -0.164274      -0.023632        -0.090060   \n",
       "OpenPorchSF_Log            -0.182412       0.020929         0.005534   \n",
       "EnclosedPorch_Log           1.000000      -0.039097        -0.082818   \n",
       "3SsnPorch_Log              -0.039097       1.000000        -0.037728   \n",
       "ScreenPorch_Log            -0.082818      -0.037728         1.000000   \n",
       "PoolArea_Log                0.018197      -0.007552         0.032661   \n",
       "MiscVal_Log                 0.039051       0.007181         0.024094   \n",
       "\n",
       "                   PoolArea_Log  MiscVal_Log  \n",
       "Id                     0.037939    -0.038408  \n",
       "OverallQual            0.021348    -0.084579  \n",
       "OverallCond            0.002317     0.079141  \n",
       "YearBuilt             -0.016334    -0.077410  \n",
       "YearRemodAdd          -0.008236    -0.074210  \n",
       "BsmtUnfSF             -0.033871    -0.055960  \n",
       "2ndFlrSF               0.044123     0.000387  \n",
       "BsmtFullBath           0.041910    -0.000371  \n",
       "FullBath               0.024883    -0.043275  \n",
       "HalfBath               0.002038    -0.027180  \n",
       "BedroomAbvGr           0.066872     0.014774  \n",
       "TotRmsAbvGrd           0.046280    -0.004991  \n",
       "Fireplaces             0.053782     0.007767  \n",
       "GarageYrBlt           -0.038307    -0.049299  \n",
       "GarageCars             0.002870    -0.056446  \n",
       "GarageArea             0.014686    -0.034580  \n",
       "MoSold                -0.024319     0.010008  \n",
       "YrSold                -0.062670     0.056339  \n",
       "SalePrice_Log          0.040578    -0.066676  \n",
       "GrLivArea_Log          0.054709    -0.034350  \n",
       "LotArea_Log            0.060150     0.082283  \n",
       "MSSubClass_Log         0.020115    -0.027560  \n",
       "LotFrontage_Log        0.054077     0.031347  \n",
       "MasVnrArea_Log        -0.004036    -0.056184  \n",
       "BsmtFinSF1_Log         0.019827     0.019575  \n",
       "BsmtFinSF2_Log         0.088091     0.027739  \n",
       "TotalBsmtSF_Log        0.012219    -0.056947  \n",
       "1stFlrSF_Log           0.037225    -0.041006  \n",
       "LowQualFinSF_Log       0.083757     0.025083  \n",
       "BsmtHalfBath_Log      -0.002177    -0.007074  \n",
       "KitchenAbvGr_Log      -0.012825     0.036168  \n",
       "WoodDeckSF_Log         0.024058     0.006506  \n",
       "OpenPorchSF_Log        0.008376    -0.036076  \n",
       "EnclosedPorch_Log      0.018197     0.039051  \n",
       "3SsnPorch_Log         -0.007552     0.007181  \n",
       "ScreenPorch_Log        0.032661     0.024094  \n",
       "PoolArea_Log           1.000000     0.060008  \n",
       "MiscVal_Log            0.060008     1.000000  \n",
       "\n",
       "[38 rows x 38 columns]"
      ]
     },
     "execution_count": 20,
     "metadata": {},
     "output_type": "execute_result"
    }
   ],
   "source": [
    "corr"
   ]
  },
  {
   "cell_type": "code",
   "execution_count": 21,
   "metadata": {},
   "outputs": [
    {
     "data": {
      "text/plain": [
       "SalePrice_Log        1.000000\n",
       "OverallQual          0.819240\n",
       "GrLivArea_Log        0.732805\n",
       "GarageCars           0.680408\n",
       "GarageArea           0.655211\n",
       "1stFlrSF_Log         0.611018\n",
       "FullBath             0.590919\n",
       "YearBuilt            0.588977\n",
       "YearRemodAdd         0.568986\n",
       "TotRmsAbvGrd         0.533446\n",
       "GarageYrBlt          0.502558\n",
       "Fireplaces           0.487126\n",
       "OpenPorchSF_Log      0.461065\n",
       "MasVnrArea_Log       0.423049\n",
       "LotArea_Log          0.400132\n",
       "TotalBsmtSF_Log      0.372620\n",
       "LotFrontage_Log      0.343085\n",
       "WoodDeckSF_Log       0.340951\n",
       "HalfBath             0.311191\n",
       "2ndFlrSF             0.306605\n",
       "BsmtFullBath         0.238851\n",
       "BsmtUnfSF            0.223248\n",
       "BsmtFinSF1_Log       0.204675\n",
       "BedroomAbvGr         0.204117\n",
       "ScreenPorch_Log      0.108531\n",
       "MoSold               0.062231\n",
       "3SsnPorch_Log        0.060107\n",
       "PoolArea_Log         0.040578\n",
       "BsmtHalfBath_Log    -0.005216\n",
       "Id                  -0.020511\n",
       "MSSubClass_Log      -0.022258\n",
       "BsmtFinSF2_Log      -0.028758\n",
       "YrSold              -0.034319\n",
       "OverallCond         -0.036843\n",
       "LowQualFinSF_Log    -0.054332\n",
       "MiscVal_Log         -0.066676\n",
       "KitchenAbvGr_Log    -0.151583\n",
       "EnclosedPorch_Log   -0.207109\n",
       "Name: SalePrice_Log, dtype: float64"
      ]
     },
     "execution_count": 21,
     "metadata": {},
     "output_type": "execute_result"
    }
   ],
   "source": [
    "corr.nlargest(38,\"SalePrice_Log\")[\"SalePrice_Log\"]"
   ]
  },
  {
   "cell_type": "code",
   "execution_count": 22,
   "metadata": {},
   "outputs": [],
   "source": [
    "# Dropping numerical data with low correlation with the target"
   ]
  },
  {
   "cell_type": "code",
   "execution_count": 23,
   "metadata": {},
   "outputs": [],
   "source": [
    "train = train.drop(columns=[\"Fireplaces\",\"OpenPorchSF_Log\",\"MasVnrArea_Log\",\"LotArea_Log\",\"TotalBsmtSF_Log\",\"LotFrontage_Log\",\"WoodDeckSF_Log\",\"2ndFlrSF\",\"HalfBath\", \n",
    "\"BsmtFullBath\",\"BsmtUnfSF\",\"BedroomAbvGr\",\"BsmtFinSF1_Log\",\"ScreenPorch_Log\",\"PoolArea_Log\",\"3SsnPorch_Log\",\"MoSold\",\"BsmtHalfBath_Log\",\"Id\",\"MSSubClass_Log\",\"BsmtFinSF2_Log\",\n",
    "\"OverallCond\",\"YrSold\",\"LowQualFinSF_Log\",\"MiscVal_Log\",\"KitchenAbvGr_Log\",\"EnclosedPorch_Log\"])"
   ]
  },
  {
   "cell_type": "code",
   "execution_count": 24,
   "metadata": {},
   "outputs": [],
   "source": [
    "id_test = test['Id']"
   ]
  },
  {
   "cell_type": "code",
   "execution_count": 25,
   "metadata": {},
   "outputs": [
    {
     "data": {
      "text/plain": [
       "(1459, 80)"
      ]
     },
     "execution_count": 25,
     "metadata": {},
     "output_type": "execute_result"
    }
   ],
   "source": [
    "test.shape"
   ]
  },
  {
   "cell_type": "code",
   "execution_count": 26,
   "metadata": {},
   "outputs": [
    {
     "data": {
      "text/plain": [
       "(1459,)"
      ]
     },
     "execution_count": 26,
     "metadata": {},
     "output_type": "execute_result"
    }
   ],
   "source": [
    "id_test.shape"
   ]
  },
  {
   "cell_type": "code",
   "execution_count": 27,
   "metadata": {},
   "outputs": [],
   "source": [
    "test = test.drop(columns=[\"Fireplaces\",\"OpenPorchSF_Log\",\"MasVnrArea_Log\",\"LotArea_Log\",\"TotalBsmtSF_Log\",\"LotFrontage_Log\",\"WoodDeckSF_Log\",\"2ndFlrSF\",\"HalfBath\", \n",
    "\"BsmtFullBath\",\"BsmtUnfSF\",\"BedroomAbvGr\",\"BsmtFinSF1_Log\",\"ScreenPorch_Log\",\"PoolArea_Log\",\"3SsnPorch_Log\",\"MoSold\",\"BsmtHalfBath_Log\",\"Id\",\"MSSubClass_Log\",\"BsmtFinSF2_Log\",\n",
    "\"OverallCond\",\"YrSold\",\"LowQualFinSF_Log\",\"MiscVal_Log\",\"KitchenAbvGr_Log\",\"EnclosedPorch_Log\"])"
   ]
  },
  {
   "cell_type": "code",
   "execution_count": 28,
   "metadata": {},
   "outputs": [
    {
     "data": {
      "text/html": [
       "<div>\n",
       "<style scoped>\n",
       "    .dataframe tbody tr th:only-of-type {\n",
       "        vertical-align: middle;\n",
       "    }\n",
       "\n",
       "    .dataframe tbody tr th {\n",
       "        vertical-align: top;\n",
       "    }\n",
       "\n",
       "    .dataframe thead th {\n",
       "        text-align: right;\n",
       "    }\n",
       "</style>\n",
       "<table border=\"1\" class=\"dataframe\">\n",
       "  <thead>\n",
       "    <tr style=\"text-align: right;\">\n",
       "      <th></th>\n",
       "      <th>OverallQual</th>\n",
       "      <th>YearBuilt</th>\n",
       "      <th>YearRemodAdd</th>\n",
       "      <th>FullBath</th>\n",
       "      <th>TotRmsAbvGrd</th>\n",
       "      <th>GarageYrBlt</th>\n",
       "      <th>GarageCars</th>\n",
       "      <th>GarageArea</th>\n",
       "      <th>SalePrice_Log</th>\n",
       "      <th>GrLivArea_Log</th>\n",
       "      <th>1stFlrSF_Log</th>\n",
       "    </tr>\n",
       "  </thead>\n",
       "  <tbody>\n",
       "    <tr>\n",
       "      <th>OverallQual</th>\n",
       "      <td>1.000000</td>\n",
       "      <td>0.571712</td>\n",
       "      <td>0.550971</td>\n",
       "      <td>0.543791</td>\n",
       "      <td>0.415834</td>\n",
       "      <td>0.517200</td>\n",
       "      <td>0.598739</td>\n",
       "      <td>0.554905</td>\n",
       "      <td>0.819240</td>\n",
       "      <td>0.603760</td>\n",
       "      <td>0.442746</td>\n",
       "    </tr>\n",
       "    <tr>\n",
       "      <th>YearBuilt</th>\n",
       "      <td>0.571712</td>\n",
       "      <td>1.000000</td>\n",
       "      <td>0.591906</td>\n",
       "      <td>0.466710</td>\n",
       "      <td>0.089207</td>\n",
       "      <td>0.780104</td>\n",
       "      <td>0.536749</td>\n",
       "      <td>0.477311</td>\n",
       "      <td>0.588977</td>\n",
       "      <td>0.230041</td>\n",
       "      <td>0.272845</td>\n",
       "    </tr>\n",
       "    <tr>\n",
       "      <th>YearRemodAdd</th>\n",
       "      <td>0.550971</td>\n",
       "      <td>0.591906</td>\n",
       "      <td>1.000000</td>\n",
       "      <td>0.438212</td>\n",
       "      <td>0.187520</td>\n",
       "      <td>0.617319</td>\n",
       "      <td>0.419573</td>\n",
       "      <td>0.369590</td>\n",
       "      <td>0.568986</td>\n",
       "      <td>0.309083</td>\n",
       "      <td>0.229650</td>\n",
       "    </tr>\n",
       "    <tr>\n",
       "      <th>FullBath</th>\n",
       "      <td>0.543791</td>\n",
       "      <td>0.466710</td>\n",
       "      <td>0.438212</td>\n",
       "      <td>1.000000</td>\n",
       "      <td>0.549625</td>\n",
       "      <td>0.467278</td>\n",
       "      <td>0.465325</td>\n",
       "      <td>0.400780</td>\n",
       "      <td>0.590919</td>\n",
       "      <td>0.648868</td>\n",
       "      <td>0.358910</td>\n",
       "    </tr>\n",
       "    <tr>\n",
       "      <th>TotRmsAbvGrd</th>\n",
       "      <td>0.415834</td>\n",
       "      <td>0.089207</td>\n",
       "      <td>0.187520</td>\n",
       "      <td>0.549625</td>\n",
       "      <td>1.000000</td>\n",
       "      <td>0.135216</td>\n",
       "      <td>0.358069</td>\n",
       "      <td>0.325467</td>\n",
       "      <td>0.533446</td>\n",
       "      <td>0.822042</td>\n",
       "      <td>0.389711</td>\n",
       "    </tr>\n",
       "    <tr>\n",
       "      <th>GarageYrBlt</th>\n",
       "      <td>0.517200</td>\n",
       "      <td>0.780104</td>\n",
       "      <td>0.617319</td>\n",
       "      <td>0.467278</td>\n",
       "      <td>0.135216</td>\n",
       "      <td>1.000000</td>\n",
       "      <td>0.481735</td>\n",
       "      <td>0.475308</td>\n",
       "      <td>0.502558</td>\n",
       "      <td>0.234799</td>\n",
       "      <td>0.207879</td>\n",
       "    </tr>\n",
       "    <tr>\n",
       "      <th>GarageCars</th>\n",
       "      <td>0.598739</td>\n",
       "      <td>0.536749</td>\n",
       "      <td>0.419573</td>\n",
       "      <td>0.465325</td>\n",
       "      <td>0.358069</td>\n",
       "      <td>0.481735</td>\n",
       "      <td>1.000000</td>\n",
       "      <td>0.886882</td>\n",
       "      <td>0.680408</td>\n",
       "      <td>0.493901</td>\n",
       "      <td>0.445887</td>\n",
       "    </tr>\n",
       "    <tr>\n",
       "      <th>GarageArea</th>\n",
       "      <td>0.554905</td>\n",
       "      <td>0.477311</td>\n",
       "      <td>0.369590</td>\n",
       "      <td>0.400780</td>\n",
       "      <td>0.325467</td>\n",
       "      <td>0.475308</td>\n",
       "      <td>0.886882</td>\n",
       "      <td>1.000000</td>\n",
       "      <td>0.655211</td>\n",
       "      <td>0.464328</td>\n",
       "      <td>0.474118</td>\n",
       "    </tr>\n",
       "    <tr>\n",
       "      <th>SalePrice_Log</th>\n",
       "      <td>0.819240</td>\n",
       "      <td>0.588977</td>\n",
       "      <td>0.568986</td>\n",
       "      <td>0.590919</td>\n",
       "      <td>0.533446</td>\n",
       "      <td>0.502558</td>\n",
       "      <td>0.680408</td>\n",
       "      <td>0.655211</td>\n",
       "      <td>1.000000</td>\n",
       "      <td>0.732805</td>\n",
       "      <td>0.611018</td>\n",
       "    </tr>\n",
       "    <tr>\n",
       "      <th>GrLivArea_Log</th>\n",
       "      <td>0.603760</td>\n",
       "      <td>0.230041</td>\n",
       "      <td>0.309083</td>\n",
       "      <td>0.648868</td>\n",
       "      <td>0.822042</td>\n",
       "      <td>0.234799</td>\n",
       "      <td>0.493901</td>\n",
       "      <td>0.464328</td>\n",
       "      <td>0.732805</td>\n",
       "      <td>1.000000</td>\n",
       "      <td>0.531182</td>\n",
       "    </tr>\n",
       "    <tr>\n",
       "      <th>1stFlrSF_Log</th>\n",
       "      <td>0.442746</td>\n",
       "      <td>0.272845</td>\n",
       "      <td>0.229650</td>\n",
       "      <td>0.358910</td>\n",
       "      <td>0.389711</td>\n",
       "      <td>0.207879</td>\n",
       "      <td>0.445887</td>\n",
       "      <td>0.474118</td>\n",
       "      <td>0.611018</td>\n",
       "      <td>0.531182</td>\n",
       "      <td>1.000000</td>\n",
       "    </tr>\n",
       "  </tbody>\n",
       "</table>\n",
       "</div>"
      ],
      "text/plain": [
       "               OverallQual  YearBuilt  YearRemodAdd  FullBath  TotRmsAbvGrd  \\\n",
       "OverallQual       1.000000   0.571712      0.550971  0.543791      0.415834   \n",
       "YearBuilt         0.571712   1.000000      0.591906  0.466710      0.089207   \n",
       "YearRemodAdd      0.550971   0.591906      1.000000  0.438212      0.187520   \n",
       "FullBath          0.543791   0.466710      0.438212  1.000000      0.549625   \n",
       "TotRmsAbvGrd      0.415834   0.089207      0.187520  0.549625      1.000000   \n",
       "GarageYrBlt       0.517200   0.780104      0.617319  0.467278      0.135216   \n",
       "GarageCars        0.598739   0.536749      0.419573  0.465325      0.358069   \n",
       "GarageArea        0.554905   0.477311      0.369590  0.400780      0.325467   \n",
       "SalePrice_Log     0.819240   0.588977      0.568986  0.590919      0.533446   \n",
       "GrLivArea_Log     0.603760   0.230041      0.309083  0.648868      0.822042   \n",
       "1stFlrSF_Log      0.442746   0.272845      0.229650  0.358910      0.389711   \n",
       "\n",
       "               GarageYrBlt  GarageCars  GarageArea  SalePrice_Log  \\\n",
       "OverallQual       0.517200    0.598739    0.554905       0.819240   \n",
       "YearBuilt         0.780104    0.536749    0.477311       0.588977   \n",
       "YearRemodAdd      0.617319    0.419573    0.369590       0.568986   \n",
       "FullBath          0.467278    0.465325    0.400780       0.590919   \n",
       "TotRmsAbvGrd      0.135216    0.358069    0.325467       0.533446   \n",
       "GarageYrBlt       1.000000    0.481735    0.475308       0.502558   \n",
       "GarageCars        0.481735    1.000000    0.886882       0.680408   \n",
       "GarageArea        0.475308    0.886882    1.000000       0.655211   \n",
       "SalePrice_Log     0.502558    0.680408    0.655211       1.000000   \n",
       "GrLivArea_Log     0.234799    0.493901    0.464328       0.732805   \n",
       "1stFlrSF_Log      0.207879    0.445887    0.474118       0.611018   \n",
       "\n",
       "               GrLivArea_Log  1stFlrSF_Log  \n",
       "OverallQual         0.603760      0.442746  \n",
       "YearBuilt           0.230041      0.272845  \n",
       "YearRemodAdd        0.309083      0.229650  \n",
       "FullBath            0.648868      0.358910  \n",
       "TotRmsAbvGrd        0.822042      0.389711  \n",
       "GarageYrBlt         0.234799      0.207879  \n",
       "GarageCars          0.493901      0.445887  \n",
       "GarageArea          0.464328      0.474118  \n",
       "SalePrice_Log       0.732805      0.611018  \n",
       "GrLivArea_Log       1.000000      0.531182  \n",
       "1stFlrSF_Log        0.531182      1.000000  "
      ]
     },
     "execution_count": 28,
     "metadata": {},
     "output_type": "execute_result"
    }
   ],
   "source": [
    "train.corr()"
   ]
  },
  {
   "cell_type": "code",
   "execution_count": 29,
   "metadata": {},
   "outputs": [],
   "source": [
    "## The features need to be highly correlated with the target but independant between themself\n",
    "## Let's remove features causing multicollinearity (threshold = 0,7)\n",
    "## Between the 2 features correlated delete the one the least correlated to the target"
   ]
  },
  {
   "cell_type": "code",
   "execution_count": 30,
   "metadata": {},
   "outputs": [],
   "source": [
    "train = train.drop(columns=[\"GarageYrBlt\",\"TotRmsAbvGrd\",\"GarageArea\"])"
   ]
  },
  {
   "cell_type": "code",
   "execution_count": 31,
   "metadata": {},
   "outputs": [],
   "source": [
    "test = test.drop(columns=[\"GarageYrBlt\",\"TotRmsAbvGrd\",\"GarageArea\"])"
   ]
  },
  {
   "cell_type": "code",
   "execution_count": 32,
   "metadata": {},
   "outputs": [],
   "source": [
    "categorical_feats = train.dtypes[train.dtypes == \"object\"].index"
   ]
  },
  {
   "cell_type": "code",
   "execution_count": 33,
   "metadata": {},
   "outputs": [
    {
     "data": {
      "text/plain": [
       "Index(['MSZoning', 'Street', 'Alley', 'LotShape', 'LandContour', 'Utilities',\n",
       "       'LotConfig', 'LandSlope', 'Neighborhood', 'Condition1', 'Condition2',\n",
       "       'BldgType', 'HouseStyle', 'RoofStyle', 'RoofMatl', 'Exterior1st',\n",
       "       'Exterior2nd', 'MasVnrType', 'ExterQual', 'ExterCond', 'Foundation',\n",
       "       'BsmtQual', 'BsmtCond', 'BsmtExposure', 'BsmtFinType1', 'BsmtFinType2',\n",
       "       'Heating', 'HeatingQC', 'CentralAir', 'Electrical', 'KitchenQual',\n",
       "       'Functional', 'FireplaceQu', 'GarageType', 'GarageFinish', 'GarageQual',\n",
       "       'GarageCond', 'PavedDrive', 'PoolQC', 'Fence', 'MiscFeature',\n",
       "       'SaleType', 'SaleCondition'],\n",
       "      dtype='object')"
      ]
     },
     "execution_count": 33,
     "metadata": {},
     "output_type": "execute_result"
    }
   ],
   "source": [
    "categorical_feats"
   ]
  },
  {
   "cell_type": "code",
   "execution_count": 34,
   "metadata": {},
   "outputs": [
    {
     "name": "stderr",
     "output_type": "stream",
     "text": [
      "<ipython-input-34-cf3d507dcd78>:3: RuntimeWarning: More than 20 figures have been opened. Figures created through the pyplot interface (`matplotlib.pyplot.figure`) are retained until explicitly closed and may consume too much memory. (To control this warning, see the rcParam `figure.max_open_warning`).\n",
      "  fig, ax = plt.subplots()\n"
     ]
    },
    {
     "data": {
      "image/png": "[encoded data removed]",
      "text/plain": [
       "<Figure size 432x288 with 1 Axes>"
      ]
     },
     "metadata": {
      "needs_background": "light"
     },
     "output_type": "display_data"
    },
    {
     "data": {
      "image/png": "[encoded data removed]",
      "text/plain": [
       "<Figure size 432x288 with 1 Axes>"
      ]
     },
     "metadata": {
      "needs_background": "light"
     },
     "output_type": "display_data"
    },
    {
     "data": {
      "image/png": "[encoded data removed]",
      "text/plain": [
       "<Figure size 432x288 with 1 Axes>"
      ]
     },
     "metadata": {
      "needs_background": "light"
     },
     "output_type": "display_data"
    },
    {
     "data": {
      "image/png": "[encoded data removed]",
      "text/plain": [
       "<Figure size 432x288 with 1 Axes>"
      ]
     },
     "metadata": {
      "needs_background": "light"
     },
     "output_type": "display_data"
    },
    {
     "data": {
      "image/png": "[encoded data removed]",
      "text/plain": [
       "<Figure size 432x288 with 1 Axes>"
      ]
     },
     "metadata": {
      "needs_background": "light"
     },
     "output_type": "display_data"
    },
    {
     "data": {
      "image/png": "[encoded data removed]",
      "text/plain": [
       "<Figure size 432x288 with 1 Axes>"
      ]
     },
     "metadata": {
      "needs_background": "light"
     },
     "output_type": "display_data"
    },
    {
     "data": {
      "image/png": "[encoded data removed]",
      "text/plain": [
       "<Figure size 432x288 with 1 Axes>"
      ]
     },
     "metadata": {
      "needs_background": "light"
     },
     "output_type": "display_data"
    },
    {
     "data": {
      "image/png": "[encoded data removed]",
      "text/plain": [
       "<Figure size 432x288 with 1 Axes>"
      ]
     },
     "metadata": {
      "needs_background": "light"
     },
     "output_type": "display_data"
    },
    {
     "data": {
      "image/png": "[encoded data removed]",
      "text/plain": [
       "<Figure size 432x288 with 1 Axes>"
      ]
     },
     "metadata": {
      "needs_background": "light"
     },
     "output_type": "display_data"
    },
    {
     "data": {
      "image/png": "[encoded data removed]",
      "text/plain": [
       "<Figure size 432x288 with 1 Axes>"
      ]
     },
     "metadata": {
      "needs_background": "light"
     },
     "output_type": "display_data"
    },
    {
     "data": {
      "image/png": "[encoded data removed]",
      "text/plain": [
       "<Figure size 432x288 with 1 Axes>"
      ]
     },
     "metadata": {
      "needs_background": "light"
     },
     "output_type": "display_data"
    },
    {
     "data": {
      "image/png": "[encoded data removed]",
      "text/plain": [
       "<Figure size 432x288 with 1 Axes>"
      ]
     },
     "metadata": {
      "needs_background": "light"
     },
     "output_type": "display_data"
    },
    {
     "data": {
      "image/png": "[encoded data removed]",
      "text/plain": [
       "<Figure size 432x288 with 1 Axes>"
      ]
     },
     "metadata": {
      "needs_background": "light"
     },
     "output_type": "display_data"
    },
    {
     "data": {
      "image/png": "[encoded data removed]",
      "text/plain": [
       "<Figure size 432x288 with 1 Axes>"
      ]
     },
     "metadata": {
      "needs_background": "light"
     },
     "output_type": "display_data"
    },
    {
     "data": {
      "image/png": "[encoded data removed]",
      "text/plain": [
       "<Figure size 432x288 with 1 Axes>"
      ]
     },
     "metadata": {
      "needs_background": "light"
     },
     "output_type": "display_data"
    },
    {
     "data": {
      "image/png": "[encoded data removed]",
      "text/plain": [
       "<Figure size 432x288 with 1 Axes>"
      ]
     },
     "metadata": {
      "needs_background": "light"
     },
     "output_type": "display_data"
    },
    {
     "data": {
      "image/png": "[encoded data removed]",
      "text/plain": [
       "<Figure size 432x288 with 1 Axes>"
      ]
     },
     "metadata": {
      "needs_background": "light"
     },
     "output_type": "display_data"
    },
    {
     "data": {
      "image/png": "[encoded data removed]",
      "text/plain": [
       "<Figure size 432x288 with 1 Axes>"
      ]
     },
     "metadata": {
      "needs_background": "light"
     },
     "output_type": "display_data"
    },
    {
     "data": {
      "image/png": "[encoded data removed]",
      "text/plain": [
       "<Figure size 432x288 with 1 Axes>"
      ]
     },
     "metadata": {
      "needs_background": "light"
     },
     "output_type": "display_data"
    },
    {
     "data": {
      "image/png": "[encoded data removed]",
      "text/plain": [
       "<Figure size 432x288 with 1 Axes>"
      ]
     },
     "metadata": {
      "needs_background": "light"
     },
     "output_type": "display_data"
    },
    {
     "data": {
      "image/png": "[encoded data removed]",
      "text/plain": [
       "<Figure size 432x288 with 1 Axes>"
      ]
     },
     "metadata": {
      "needs_background": "light"
     },
     "output_type": "display_data"
    },
    {
     "data": {
      "image/png": "[encoded data removed]",
      "text/plain": [
       "<Figure size 432x288 with 1 Axes>"
      ]
     },
     "metadata": {
      "needs_background": "light"
     },
     "output_type": "display_data"
    },
    {
     "data": {
      "image/png": "[encoded data removed]",
      "text/plain": [
       "<Figure size 432x288 with 1 Axes>"
      ]
     },
     "metadata": {
      "needs_background": "light"
     },
     "output_type": "display_data"
    },
    {
     "data": {
      "image/png": "[encoded data removed]",
      "text/plain": [
       "<Figure size 432x288 with 1 Axes>"
      ]
     },
     "metadata": {
      "needs_background": "light"
     },
     "output_type": "display_data"
    },
    {
     "data": {
      "image/png": "[encoded data removed]",
      "text/plain": [
       "<Figure size 432x288 with 1 Axes>"
      ]
     },
     "metadata": {
      "needs_background": "light"
     },
     "output_type": "display_data"
    },
    {
     "data": {
      "image/png": "[encoded data removed]",
      "text/plain": [
       "<Figure size 432x288 with 1 Axes>"
      ]
     },
     "metadata": {
      "needs_background": "light"
     },
     "output_type": "display_data"
    },
    {
     "data": {
      "image/png": "[encoded data removed]",
      "text/plain": [
       "<Figure size 432x288 with 1 Axes>"
      ]
     },
     "metadata": {
      "needs_background": "light"
     },
     "output_type": "display_data"
    },
    {
     "data": {
      "image/png": "[encoded data removed]",
      "text/plain": [
       "<Figure size 432x288 with 1 Axes>"
      ]
     },
     "metadata": {
      "needs_background": "light"
     },
     "output_type": "display_data"
    },
    {
     "data": {
      "image/png": "[encoded data removed]",
      "text/plain": [
       "<Figure size 432x288 with 1 Axes>"
      ]
     },
     "metadata": {
      "needs_background": "light"
     },
     "output_type": "display_data"
    },
    {
     "data": {
      "image/png": "[encoded data removed]",
      "text/plain": [
       "<Figure size 432x288 with 1 Axes>"
      ]
     },
     "metadata": {
      "needs_background": "light"
     },
     "output_type": "display_data"
    },
    {
     "data": {
      "image/png": "[encoded data removed]",
      "text/plain": [
       "<Figure size 432x288 with 1 Axes>"
      ]
     },
     "metadata": {
      "needs_background": "light"
     },
     "output_type": "display_data"
    },
    {
     "data": {
      "image/png": "[encoded data removed]",
      "text/plain": [
       "<Figure size 432x288 with 1 Axes>"
      ]
     },
     "metadata": {
      "needs_background": "light"
     },
     "output_type": "display_data"
    },
    {
     "data": {
      "image/png": "[encoded data removed]",
      "text/plain": [
       "<Figure size 432x288 with 1 Axes>"
      ]
     },
     "metadata": {
      "needs_background": "light"
     },
     "output_type": "display_data"
    },
    {
     "data": {
      "image/png": "[encoded data removed]",
      "text/plain": [
       "<Figure size 432x288 with 1 Axes>"
      ]
     },
     "metadata": {
      "needs_background": "light"
     },
     "output_type": "display_data"
    },
    {
     "data": {
      "image/png": "[encoded data removed]",
      "text/plain": [
       "<Figure size 432x288 with 1 Axes>"
      ]
     },
     "metadata": {
      "needs_background": "light"
     },
     "output_type": "display_data"
    },
    {
     "data": {
      "image/png": "[encoded data removed]",
      "text/plain": [
       "<Figure size 432x288 with 1 Axes>"
      ]
     },
     "metadata": {
      "needs_background": "light"
     },
     "output_type": "display_data"
    },
    {
     "data": {
      "image/png": "[encoded data removed]",
      "text/plain": [
       "<Figure size 432x288 with 1 Axes>"
      ]
     },
     "metadata": {
      "needs_background": "light"
     },
     "output_type": "display_data"
    },
    {
     "data": {
      "image/png": "[encoded data removed]",
      "text/plain": [
       "<Figure size 432x288 with 1 Axes>"
      ]
     },
     "metadata": {
      "needs_background": "light"
     },
     "output_type": "display_data"
    },
    {
     "data": {
      "image/png": "[encoded data removed]",
      "text/plain": [
       "<Figure size 432x288 with 1 Axes>"
      ]
     },
     "metadata": {
      "needs_background": "light"
     },
     "output_type": "display_data"
    },
    {
     "data": {
      "image/png": "[encoded data removed]",
      "text/plain": [
       "<Figure size 432x288 with 1 Axes>"
      ]
     },
     "metadata": {
      "needs_background": "light"
     },
     "output_type": "display_data"
    },
    {
     "data": {
      "image/png": "[encoded data removed]",
      "text/plain": [
       "<Figure size 432x288 with 1 Axes>"
      ]
     },
     "metadata": {
      "needs_background": "light"
     },
     "output_type": "display_data"
    },
    {
     "data": {
      "image/png": "[encoded data removed]",
      "text/plain": [
       "<Figure size 432x288 with 1 Axes>"
      ]
     },
     "metadata": {
      "needs_background": "light"
     },
     "output_type": "display_data"
    },
    {
     "data": {
      "image/png": "[encoded data removed]",
      "text/plain": [
       "<Figure size 432x288 with 1 Axes>"
      ]
     },
     "metadata": {
      "needs_background": "light"
     },
     "output_type": "display_data"
    }
   ],
   "source": [
    "import matplotlib.pyplot as plt\n",
    "for i in range(len(categorical_feats)):\n",
    "    fig, ax = plt.subplots()\n",
    "    sns.boxplot(x=categorical_feats[i],y=\"SalePrice_Log\",data=train)"
   ]
  },
  {
   "cell_type": "code",
   "execution_count": 28,
   "metadata": {},
   "outputs": [],
   "source": [
    "## Droping the categorical features with low correlation to the target "
   ]
  },
  {
   "cell_type": "code",
   "execution_count": 35,
   "metadata": {},
   "outputs": [],
   "source": [
    "train = train.drop(columns=[\"Alley\",\"LotShape\",\"LandContour\",\"Utilities\",\"LotConfig\",\"LandSlope\",\"BldgType\",\"RoofStyle\",\"PavedDrive\",\"Fence\",'Neighborhood' , 'Condition2', 'MasVnrType', 'ExterQual', 'BsmtQual','CentralAir', 'Electrical', 'KitchenQual', 'SaleType'])"
   ]
  },
  {
   "cell_type": "code",
   "execution_count": 36,
   "metadata": {},
   "outputs": [],
   "source": [
    "test = test.drop(columns=[\"Alley\",\"LotShape\",\"LandContour\",\"Utilities\",\"LotConfig\",\"LandSlope\",\"BldgType\",\"RoofStyle\",\"PavedDrive\",\"Fence\",'Neighborhood' , 'Condition2', 'MasVnrType', 'ExterQual', 'BsmtQual','CentralAir', 'Electrical', 'KitchenQual', 'SaleType'])"
   ]
  },
  {
   "cell_type": "code",
   "execution_count": 37,
   "metadata": {},
   "outputs": [
    {
     "data": {
      "text/plain": [
       "Index(['MSZoning', 'Street', 'Condition1', 'HouseStyle', 'OverallQual',\n",
       "       'YearBuilt', 'YearRemodAdd', 'RoofMatl', 'Exterior1st', 'Exterior2nd',\n",
       "       'ExterCond', 'Foundation', 'BsmtCond', 'BsmtExposure', 'BsmtFinType1',\n",
       "       'BsmtFinType2', 'Heating', 'HeatingQC', 'FullBath', 'Functional',\n",
       "       'FireplaceQu', 'GarageType', 'GarageFinish', 'GarageCars', 'GarageQual',\n",
       "       'GarageCond', 'PoolQC', 'MiscFeature', 'SaleCondition', 'SalePrice_Log',\n",
       "       'GrLivArea_Log', '1stFlrSF_Log'],\n",
       "      dtype='object')"
      ]
     },
     "execution_count": 37,
     "metadata": {},
     "output_type": "execute_result"
    }
   ],
   "source": [
    "train.columns"
   ]
  },
  {
   "cell_type": "code",
   "execution_count": 38,
   "metadata": {},
   "outputs": [],
   "source": [
    "train = train.drop(columns=[\"Street\",\"Condition1\",\"HouseStyle\",\"RoofMatl\",\"Exterior1st\",\"Exterior2nd\",\"ExterCond\",\"Foundation\",\n",
    "                           \"BsmtCond\",\"BsmtExposure\",\"BsmtFinType1\",\"BsmtFinType2\",\"Heating\",\"HeatingQC\",\"Functional\",\n",
    "                           \"FireplaceQu\",\"GarageType\",\"GarageFinish\",\"GarageQual\",\"GarageCond\",\"PoolQC\",\"MiscFeature\",\"SaleCondition\"])"
   ]
  },
  {
   "cell_type": "code",
   "execution_count": 39,
   "metadata": {},
   "outputs": [],
   "source": [
    "test = test.drop(columns=[\"Street\",\"Condition1\",\"HouseStyle\",\"RoofMatl\",\"Exterior1st\",\"Exterior2nd\",\"ExterCond\",\"Foundation\",\n",
    "                           \"BsmtCond\",\"BsmtExposure\",\"BsmtFinType1\",\"BsmtFinType2\",\"Heating\",\"HeatingQC\",\"Functional\",\n",
    "                           \"FireplaceQu\",\"GarageType\",\"GarageFinish\",\"GarageQual\",\"GarageCond\",\"PoolQC\",\"MiscFeature\",\"SaleCondition\"])"
   ]
  },
  {
   "cell_type": "code",
   "execution_count": 40,
   "metadata": {},
   "outputs": [],
   "source": [
    "train = train.replace({\"CentralAir\":{\"Y\":1,\"N\":0}})"
   ]
  },
  {
   "cell_type": "code",
   "execution_count": 41,
   "metadata": {},
   "outputs": [],
   "source": [
    "test = test.replace({\"CentralAir\":{\"Y\":1,\"N\":0}})"
   ]
  },
  {
   "cell_type": "code",
   "execution_count": 42,
   "metadata": {},
   "outputs": [],
   "source": [
    "from sklearn.preprocessing import OneHotEncoder"
   ]
  },
  {
   "cell_type": "code",
   "execution_count": 43,
   "metadata": {},
   "outputs": [],
   "source": [
    "categorical_feats = train.dtypes[train.dtypes == \"object\"].index"
   ]
  },
  {
   "cell_type": "code",
   "execution_count": 44,
   "metadata": {},
   "outputs": [],
   "source": [
    "train =  train.replace({\"MasVnrType\":{0:\"None\"},\"BsmtQual\":{0:\"None\"},\"Electrical\":{0:\"None\"}})"
   ]
  },
  {
   "cell_type": "code",
   "execution_count": 45,
   "metadata": {},
   "outputs": [],
   "source": [
    "test = test.replace({\"BsmtQual\":{0:\"None\"},\"Electrical\":{0:\"None\"},\"MSZoning\":{0:\"None\"}})\n",
    "#,\"KitchenQual\":{0,\"None\"},\"SaleType\":{0:\"None\"}})"
   ]
  },
  {
   "cell_type": "code",
   "execution_count": 46,
   "metadata": {},
   "outputs": [],
   "source": [
    "dic = {\"KitchenQual\":{0:\"None\"},\"SaleType\":{0:\"None\"}}"
   ]
  },
  {
   "cell_type": "code",
   "execution_count": 47,
   "metadata": {},
   "outputs": [],
   "source": [
    "test = test.replace(dic)"
   ]
  },
  {
   "cell_type": "code",
   "execution_count": 51,
   "metadata": {},
   "outputs": [],
   "source": [
    "numerical_feats = train.dtypes[train.dtypes == \"object\"].index"
   ]
  },
  {
   "cell_type": "code",
   "execution_count": 52,
   "metadata": {},
   "outputs": [
    {
     "data": {
      "text/html": [
       "<div>\n",
       "<style scoped>\n",
       "    .dataframe tbody tr th:only-of-type {\n",
       "        vertical-align: middle;\n",
       "    }\n",
       "\n",
       "    .dataframe tbody tr th {\n",
       "        vertical-align: top;\n",
       "    }\n",
       "\n",
       "    .dataframe thead th {\n",
       "        text-align: right;\n",
       "    }\n",
       "</style>\n",
       "<table border=\"1\" class=\"dataframe\">\n",
       "  <thead>\n",
       "    <tr style=\"text-align: right;\">\n",
       "      <th></th>\n",
       "      <th>MSZoning</th>\n",
       "      <th>Neighborhood</th>\n",
       "      <th>Condition2</th>\n",
       "      <th>MasVnrType</th>\n",
       "      <th>ExterQual</th>\n",
       "      <th>BsmtQual</th>\n",
       "      <th>Electrical</th>\n",
       "      <th>KitchenQual</th>\n",
       "      <th>SaleType</th>\n",
       "    </tr>\n",
       "  </thead>\n",
       "  <tbody>\n",
       "    <tr>\n",
       "      <th>0</th>\n",
       "      <td>RL</td>\n",
       "      <td>CollgCr</td>\n",
       "      <td>Norm</td>\n",
       "      <td>BrkFace</td>\n",
       "      <td>Gd</td>\n",
       "      <td>Gd</td>\n",
       "      <td>SBrkr</td>\n",
       "      <td>Gd</td>\n",
       "      <td>WD</td>\n",
       "    </tr>\n",
       "    <tr>\n",
       "      <th>1</th>\n",
       "      <td>RL</td>\n",
       "      <td>Veenker</td>\n",
       "      <td>Norm</td>\n",
       "      <td>None</td>\n",
       "      <td>TA</td>\n",
       "      <td>Gd</td>\n",
       "      <td>SBrkr</td>\n",
       "      <td>TA</td>\n",
       "      <td>WD</td>\n",
       "    </tr>\n",
       "    <tr>\n",
       "      <th>2</th>\n",
       "      <td>RL</td>\n",
       "      <td>CollgCr</td>\n",
       "      <td>Norm</td>\n",
       "      <td>BrkFace</td>\n",
       "      <td>Gd</td>\n",
       "      <td>Gd</td>\n",
       "      <td>SBrkr</td>\n",
       "      <td>Gd</td>\n",
       "      <td>WD</td>\n",
       "    </tr>\n",
       "    <tr>\n",
       "      <th>3</th>\n",
       "      <td>RL</td>\n",
       "      <td>Crawfor</td>\n",
       "      <td>Norm</td>\n",
       "      <td>None</td>\n",
       "      <td>TA</td>\n",
       "      <td>TA</td>\n",
       "      <td>SBrkr</td>\n",
       "      <td>Gd</td>\n",
       "      <td>WD</td>\n",
       "    </tr>\n",
       "    <tr>\n",
       "      <th>4</th>\n",
       "      <td>RL</td>\n",
       "      <td>NoRidge</td>\n",
       "      <td>Norm</td>\n",
       "      <td>BrkFace</td>\n",
       "      <td>Gd</td>\n",
       "      <td>Gd</td>\n",
       "      <td>SBrkr</td>\n",
       "      <td>Gd</td>\n",
       "      <td>WD</td>\n",
       "    </tr>\n",
       "    <tr>\n",
       "      <th>...</th>\n",
       "      <td>...</td>\n",
       "      <td>...</td>\n",
       "      <td>...</td>\n",
       "      <td>...</td>\n",
       "      <td>...</td>\n",
       "      <td>...</td>\n",
       "      <td>...</td>\n",
       "      <td>...</td>\n",
       "      <td>...</td>\n",
       "    </tr>\n",
       "    <tr>\n",
       "      <th>1455</th>\n",
       "      <td>RL</td>\n",
       "      <td>Gilbert</td>\n",
       "      <td>Norm</td>\n",
       "      <td>None</td>\n",
       "      <td>TA</td>\n",
       "      <td>Gd</td>\n",
       "      <td>SBrkr</td>\n",
       "      <td>TA</td>\n",
       "      <td>WD</td>\n",
       "    </tr>\n",
       "    <tr>\n",
       "      <th>1456</th>\n",
       "      <td>RL</td>\n",
       "      <td>NWAmes</td>\n",
       "      <td>Norm</td>\n",
       "      <td>Stone</td>\n",
       "      <td>TA</td>\n",
       "      <td>Gd</td>\n",
       "      <td>SBrkr</td>\n",
       "      <td>TA</td>\n",
       "      <td>WD</td>\n",
       "    </tr>\n",
       "    <tr>\n",
       "      <th>1457</th>\n",
       "      <td>RL</td>\n",
       "      <td>Crawfor</td>\n",
       "      <td>Norm</td>\n",
       "      <td>None</td>\n",
       "      <td>Ex</td>\n",
       "      <td>TA</td>\n",
       "      <td>SBrkr</td>\n",
       "      <td>Gd</td>\n",
       "      <td>WD</td>\n",
       "    </tr>\n",
       "    <tr>\n",
       "      <th>1458</th>\n",
       "      <td>RL</td>\n",
       "      <td>NAmes</td>\n",
       "      <td>Norm</td>\n",
       "      <td>None</td>\n",
       "      <td>TA</td>\n",
       "      <td>TA</td>\n",
       "      <td>FuseA</td>\n",
       "      <td>Gd</td>\n",
       "      <td>WD</td>\n",
       "    </tr>\n",
       "    <tr>\n",
       "      <th>1459</th>\n",
       "      <td>RL</td>\n",
       "      <td>Edwards</td>\n",
       "      <td>Norm</td>\n",
       "      <td>None</td>\n",
       "      <td>Gd</td>\n",
       "      <td>TA</td>\n",
       "      <td>SBrkr</td>\n",
       "      <td>TA</td>\n",
       "      <td>WD</td>\n",
       "    </tr>\n",
       "  </tbody>\n",
       "</table>\n",
       "<p>1456 rows × 9 columns</p>\n",
       "</div>"
      ],
      "text/plain": [
       "     MSZoning Neighborhood Condition2 MasVnrType ExterQual BsmtQual  \\\n",
       "0          RL      CollgCr       Norm    BrkFace        Gd       Gd   \n",
       "1          RL      Veenker       Norm       None        TA       Gd   \n",
       "2          RL      CollgCr       Norm    BrkFace        Gd       Gd   \n",
       "3          RL      Crawfor       Norm       None        TA       TA   \n",
       "4          RL      NoRidge       Norm    BrkFace        Gd       Gd   \n",
       "...       ...          ...        ...        ...       ...      ...   \n",
       "1455       RL      Gilbert       Norm       None        TA       Gd   \n",
       "1456       RL       NWAmes       Norm      Stone        TA       Gd   \n",
       "1457       RL      Crawfor       Norm       None        Ex       TA   \n",
       "1458       RL        NAmes       Norm       None        TA       TA   \n",
       "1459       RL      Edwards       Norm       None        Gd       TA   \n",
       "\n",
       "     Electrical KitchenQual SaleType  \n",
       "0         SBrkr          Gd       WD  \n",
       "1         SBrkr          TA       WD  \n",
       "2         SBrkr          Gd       WD  \n",
       "3         SBrkr          Gd       WD  \n",
       "4         SBrkr          Gd       WD  \n",
       "...         ...         ...      ...  \n",
       "1455      SBrkr          TA       WD  \n",
       "1456      SBrkr          TA       WD  \n",
       "1457      SBrkr          Gd       WD  \n",
       "1458      FuseA          Gd       WD  \n",
       "1459      SBrkr          TA       WD  \n",
       "\n",
       "[1456 rows x 9 columns]"
      ]
     },
     "execution_count": 52,
     "metadata": {},
     "output_type": "execute_result"
    }
   ],
   "source": [
    "train[categorical_feats]"
   ]
  },
  {
   "cell_type": "code",
   "execution_count": 49,
   "metadata": {},
   "outputs": [],
   "source": [
    "OH_train = pd.get_dummies(train, columns=['MSZoning'])"
   ]
  },
  {
   "cell_type": "code",
   "execution_count": 50,
   "metadata": {},
   "outputs": [],
   "source": [
    "OH_test = pd.get_dummies(test, columns=['MSZoning'])"
   ]
  },
  {
   "cell_type": "code",
   "execution_count": 53,
   "metadata": {},
   "outputs": [
    {
     "data": {
      "text/html": [
       "<div>\n",
       "<style scoped>\n",
       "    .dataframe tbody tr th:only-of-type {\n",
       "        vertical-align: middle;\n",
       "    }\n",
       "\n",
       "    .dataframe tbody tr th {\n",
       "        vertical-align: top;\n",
       "    }\n",
       "\n",
       "    .dataframe thead th {\n",
       "        text-align: right;\n",
       "    }\n",
       "</style>\n",
       "<table border=\"1\" class=\"dataframe\">\n",
       "  <thead>\n",
       "    <tr style=\"text-align: right;\">\n",
       "      <th></th>\n",
       "      <th>OverallQual</th>\n",
       "      <th>YearBuilt</th>\n",
       "      <th>YearRemodAdd</th>\n",
       "      <th>FullBath</th>\n",
       "      <th>GarageCars</th>\n",
       "      <th>SalePrice_Log</th>\n",
       "      <th>GrLivArea_Log</th>\n",
       "      <th>1stFlrSF_Log</th>\n",
       "      <th>MSZoning_C (all)</th>\n",
       "      <th>MSZoning_FV</th>\n",
       "      <th>MSZoning_RH</th>\n",
       "      <th>MSZoning_RL</th>\n",
       "      <th>MSZoning_RM</th>\n",
       "    </tr>\n",
       "  </thead>\n",
       "  <tbody>\n",
       "    <tr>\n",
       "      <th>366</th>\n",
       "      <td>6</td>\n",
       "      <td>1963</td>\n",
       "      <td>1963</td>\n",
       "      <td>1</td>\n",
       "      <td>2</td>\n",
       "      <td>11.976659</td>\n",
       "      <td>7.239933</td>\n",
       "      <td>7.239933</td>\n",
       "      <td>0</td>\n",
       "      <td>0</td>\n",
       "      <td>0</td>\n",
       "      <td>1</td>\n",
       "      <td>0</td>\n",
       "    </tr>\n",
       "    <tr>\n",
       "      <th>654</th>\n",
       "      <td>8</td>\n",
       "      <td>1995</td>\n",
       "      <td>1995</td>\n",
       "      <td>2</td>\n",
       "      <td>3</td>\n",
       "      <td>12.765688</td>\n",
       "      <td>7.655864</td>\n",
       "      <td>7.655864</td>\n",
       "      <td>0</td>\n",
       "      <td>0</td>\n",
       "      <td>0</td>\n",
       "      <td>1</td>\n",
       "      <td>0</td>\n",
       "    </tr>\n",
       "    <tr>\n",
       "      <th>1041</th>\n",
       "      <td>6</td>\n",
       "      <td>1966</td>\n",
       "      <td>2000</td>\n",
       "      <td>1</td>\n",
       "      <td>2</td>\n",
       "      <td>12.061047</td>\n",
       "      <td>7.397562</td>\n",
       "      <td>6.684612</td>\n",
       "      <td>0</td>\n",
       "      <td>0</td>\n",
       "      <td>0</td>\n",
       "      <td>1</td>\n",
       "      <td>0</td>\n",
       "    </tr>\n",
       "    <tr>\n",
       "      <th>236</th>\n",
       "      <td>7</td>\n",
       "      <td>2004</td>\n",
       "      <td>2004</td>\n",
       "      <td>2</td>\n",
       "      <td>2</td>\n",
       "      <td>12.130810</td>\n",
       "      <td>7.254178</td>\n",
       "      <td>7.254178</td>\n",
       "      <td>0</td>\n",
       "      <td>0</td>\n",
       "      <td>0</td>\n",
       "      <td>1</td>\n",
       "      <td>0</td>\n",
       "    </tr>\n",
       "    <tr>\n",
       "      <th>1004</th>\n",
       "      <td>7</td>\n",
       "      <td>2005</td>\n",
       "      <td>2006</td>\n",
       "      <td>2</td>\n",
       "      <td>2</td>\n",
       "      <td>12.106252</td>\n",
       "      <td>7.315884</td>\n",
       "      <td>7.315884</td>\n",
       "      <td>0</td>\n",
       "      <td>0</td>\n",
       "      <td>0</td>\n",
       "      <td>1</td>\n",
       "      <td>0</td>\n",
       "    </tr>\n",
       "  </tbody>\n",
       "</table>\n",
       "</div>"
      ],
      "text/plain": [
       "      OverallQual  YearBuilt  YearRemodAdd  FullBath  GarageCars  \\\n",
       "366             6       1963          1963         1           2   \n",
       "654             8       1995          1995         2           3   \n",
       "1041            6       1966          2000         1           2   \n",
       "236             7       2004          2004         2           2   \n",
       "1004            7       2005          2006         2           2   \n",
       "\n",
       "      SalePrice_Log  GrLivArea_Log  1stFlrSF_Log  MSZoning_C (all)  \\\n",
       "366       11.976659       7.239933      7.239933                 0   \n",
       "654       12.765688       7.655864      7.655864                 0   \n",
       "1041      12.061047       7.397562      6.684612                 0   \n",
       "236       12.130810       7.254178      7.254178                 0   \n",
       "1004      12.106252       7.315884      7.315884                 0   \n",
       "\n",
       "      MSZoning_FV  MSZoning_RH  MSZoning_RL  MSZoning_RM  \n",
       "366             0            0            1            0  \n",
       "654             0            0            1            0  \n",
       "1041            0            0            1            0  \n",
       "236             0            0            1            0  \n",
       "1004            0            0            1            0  "
      ]
     },
     "execution_count": 53,
     "metadata": {},
     "output_type": "execute_result"
    }
   ],
   "source": [
    "OH_train.sample(5)"
   ]
  },
  {
   "cell_type": "code",
   "execution_count": 52,
   "metadata": {},
   "outputs": [],
   "source": [
    "y = OH_train.SalePrice_Log"
   ]
  },
  {
   "cell_type": "code",
   "execution_count": 163,
   "metadata": {},
   "outputs": [],
   "source": [
    "#y_test = OH_test.SalePrice_Log"
   ]
  },
  {
   "cell_type": "code",
   "execution_count": 54,
   "metadata": {},
   "outputs": [],
   "source": [
    "OH_train = OH_train.drop(columns=\"SalePrice_Log\")"
   ]
  },
  {
   "cell_type": "code",
   "execution_count": 55,
   "metadata": {},
   "outputs": [],
   "source": [
    "X_test = OH_test"
   ]
  },
  {
   "cell_type": "code",
   "execution_count": 56,
   "metadata": {},
   "outputs": [],
   "source": [
    "from sklearn.model_selection import train_test_split\n",
    "X_train, X_val, y_train, y_val = train_test_split(OH_train, y, test_size=0.3, random_state=1,shuffle=True)"
   ]
  },
  {
   "cell_type": "code",
   "execution_count": 57,
   "metadata": {},
   "outputs": [],
   "source": [
    "X_train.to_csv(\"X_train2.csv\")\n",
    "X_val.to_csv(\"X_val2.csv\")\n",
    "X_test.to_csv(\"X_test2.csv\")\n",
    "y_train.to_csv(\"y_train2.csv\")\n",
    "y_val.to_csv(\"y_val2.csv\")"
   ]
  },
  {
   "cell_type": "code",
   "execution_count": 66,
   "metadata": {},
   "outputs": [
    {
     "data": {
      "text/plain": [
       "(1459, 77)"
      ]
     },
     "execution_count": 66,
     "metadata": {},
     "output_type": "execute_result"
    }
   ],
   "source": [
    "X_test.shape"
   ]
  },
  {
   "cell_type": "code",
   "execution_count": 178,
   "metadata": {},
   "outputs": [],
   "source": [
    "id_test.to_csv(\"id_test.csv\")"
   ]
  },
  {
   "cell_type": "code",
   "execution_count": 67,
   "metadata": {},
   "outputs": [
    {
     "data": {
      "text/plain": [
       "(1459,)"
      ]
     },
     "execution_count": 67,
     "metadata": {},
     "output_type": "execute_result"
    }
   ],
   "source": [
    "id_test.shape"
   ]
  },
  {
   "cell_type": "code",
   "execution_count": null,
   "metadata": {},
   "outputs": [],
   "source": []
  }
 ],
 "metadata": {
  "kernelspec": {
   "display_name": "Python 3",
   "language": "python",
   "name": "python3"
  },
  "language_info": {
   "codemirror_mode": {
    "name": "ipython",
    "version": 3
   },
   "file_extension": ".py",
   "mimetype": "text/x-python",
   "name": "python",
   "nbconvert_exporter": "python",
   "pygments_lexer": "ipython3",
   "version": "3.8.5"
  }
 },
 "nbformat": 4,
 "nbformat_minor": 4
}
